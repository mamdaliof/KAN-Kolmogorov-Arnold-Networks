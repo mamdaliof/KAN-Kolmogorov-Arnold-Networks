{
  "cells": [
    {
      "cell_type": "markdown",
      "source": [
        "# Imports"
      ],
      "metadata": {
        "id": "zdknafdY9pSx"
      }
    },
    {
      "cell_type": "code",
      "execution_count": 1,
      "metadata": {
        "colab": {
          "base_uri": "https://localhost:8080/"
        },
        "id": "EfG0K1CN34eb",
        "outputId": "61d92dde-d159-40ac-b8d8-235346484888"
      },
      "outputs": [
        {
          "output_type": "stream",
          "name": "stdout",
          "text": [
            "Collecting pykan\n",
            "  Downloading pykan-0.1.2-py3-none-any.whl (69 kB)\n",
            "\u001b[?25l     \u001b[90m━━━━━━━━━━━━━━━━━━━━━━━━━━━━━━━━━━━━━━━━\u001b[0m \u001b[32m0.0/69.2 kB\u001b[0m \u001b[31m?\u001b[0m eta \u001b[36m-:--:--\u001b[0m\r\u001b[2K     \u001b[91m━━━━━━━━━━━━━━━━━━━━━━━━━━━━━━━━━━━\u001b[0m\u001b[91m╸\u001b[0m\u001b[90m━━━━\u001b[0m \u001b[32m61.4/69.2 kB\u001b[0m \u001b[31m2.0 MB/s\u001b[0m eta \u001b[36m0:00:01\u001b[0m\r\u001b[2K     \u001b[90m━━━━━━━━━━━━━━━━━━━━━━━━━━━━━━━━━━━━━━━━\u001b[0m \u001b[32m69.2/69.2 kB\u001b[0m \u001b[31m1.6 MB/s\u001b[0m eta \u001b[36m0:00:00\u001b[0m\n",
            "\u001b[?25hInstalling collected packages: pykan\n",
            "Successfully installed pykan-0.1.2\n"
          ]
        }
      ],
      "source": [
        "!pip install pykan"
      ]
    },
    {
      "cell_type": "code",
      "execution_count": 19,
      "metadata": {
        "id": "SdI5PpUN4ADm"
      },
      "outputs": [],
      "source": [
        "# from kan import *\n",
        "import os\n",
        "import pandas as pd\n",
        "import numpy as np\n",
        "import matplotlib.pyplot as plt\n",
        "import cv2\n",
        "from sklearn.model_selection import train_test_split\n",
        "import torch\n",
        "import torch.nn as nn\n",
        "import torch.optim as optim\n",
        "import torchvision\n",
        "import torchvision.transforms as transforms\n",
        "from torch.utils.data import DataLoader\n",
        "from tqdm import tqdm\n",
        "from typing import *\n",
        "import math"
      ]
    },
    {
      "cell_type": "markdown",
      "source": [
        "# pykan"
      ],
      "metadata": {
        "id": "kuJgmtk99vUh"
      }
    },
    {
      "cell_type": "code",
      "execution_count": 8,
      "metadata": {
        "id": "c5zfC8uX4V2V",
        "colab": {
          "base_uri": "https://localhost:8080/"
        },
        "outputId": "549139af-090f-4738-d679-63414934418c"
      },
      "outputs": [
        {
          "output_type": "execute_result",
          "data": {
            "text/plain": [
              "((600, 28, 28), (600,), (100, 28, 28), (100,))"
            ]
          },
          "metadata": {},
          "execution_count": 8
        }
      ],
      "source": [
        "from keras.datasets import mnist\n",
        "\n",
        "(x_train, y_train), (x_test, y_test) = mnist.load_data()\n",
        "x_train, x_val, y_train, y_val = train_test_split(x_train,\n",
        "                                                  y_train,\n",
        "                                                  test_size=0.99,\n",
        "                                                  stratify=y_train,\n",
        "                                                  random_state=42)\n",
        "x_test, _, y_test, _ = train_test_split(x_test,\n",
        "                                        y_test,\n",
        "                                        test_size=0.99,\n",
        "                                        stratify=y_test,\n",
        "                                        random_state=42)\n",
        "x_train.shape, y_train.shape, x_test.shape, y_test.shape"
      ]
    },
    {
      "cell_type": "code",
      "source": [
        "num_samples = 10\n",
        "\n",
        "# Plotting the samples\n",
        "plt.figure(figsize=(20, 2))\n",
        "\n",
        "for i in range(num_samples):\n",
        "    plt.subplot(1, num_samples, i + 1)\n",
        "    plt.imshow(x_train[i], cmap='gray')\n",
        "    plt.title(f\"Label: {y_train[i]}\")\n",
        "    plt.axis('off')\n",
        "\n",
        "plt.show()"
      ],
      "metadata": {
        "colab": {
          "base_uri": "https://localhost:8080/",
          "height": 147
        },
        "id": "0xm5zqF49J0Z",
        "outputId": "7b7c76f7-8375-46f0-c870-2040bb57de5b"
      },
      "execution_count": 9,
      "outputs": [
        {
          "output_type": "display_data",
          "data": {
            "text/plain": [
              "<Figure size 2000x200 with 10 Axes>"
            ],
            "image/png": "[encoded data removed]"
          },
          "metadata": {}
        }
      ]
    },
    {
      "cell_type": "code",
      "source": [
        "# Desired new size\n",
        "new_size = (14, 14)\n",
        "\n",
        "# Function to resize images\n",
        "def resize_images(images, size):\n",
        "    resized_images = []\n",
        "    for img in images:\n",
        "        img_resized = cv2.resize(img, size, interpolation=cv2.INTER_AREA)\n",
        "        resized_images.append(img_resized)\n",
        "    return np.array(resized_images)\n",
        "\n",
        "# Resize training and test images\n",
        "x_train = resize_images(x_train, new_size)\n",
        "x_test = resize_images(x_test, new_size)\n",
        "\n",
        "x_train.shape, y_train.shape, x_test.shape, y_test.shape"
      ],
      "metadata": {
        "colab": {
          "base_uri": "https://localhost:8080/"
        },
        "id": "2Bni21du8ow5",
        "outputId": "868ea606-239e-41f0-c63e-683419cdace6"
      },
      "execution_count": 10,
      "outputs": [
        {
          "output_type": "execute_result",
          "data": {
            "text/plain": [
              "((600, 14, 14), (600,), (100, 14, 14), (100,))"
            ]
          },
          "metadata": {},
          "execution_count": 10
        }
      ]
    },
    {
      "cell_type": "code",
      "source": [
        "num_samples = 10\n",
        "\n",
        "# Plotting the samples\n",
        "plt.figure(figsize=(20, 2))\n",
        "\n",
        "for i in range(num_samples):\n",
        "    plt.subplot(1, num_samples, i + 1)\n",
        "    plt.imshow(x_train[i], cmap='gray')\n",
        "    plt.title(f\"Label: {y_train[i]}\")\n",
        "    plt.axis('off')\n",
        "\n",
        "plt.show()"
      ],
      "metadata": {
        "colab": {
          "base_uri": "https://localhost:8080/",
          "height": 147
        },
        "id": "zueKKQKx7l84",
        "outputId": "df8f0ead-b92d-42e3-f384-2050742ed20b"
      },
      "execution_count": 11,
      "outputs": [
        {
          "output_type": "display_data",
          "data": {
            "text/plain": [
              "<Figure size 2000x200 with 10 Axes>"
            ],
            "image/png": "[encoded data removed]"
          },
          "metadata": {}
        }
      ]
    },
    {
      "cell_type": "code",
      "source": [
        "# Normalize the images and divide by 255\n",
        "x_train_normalized = x_train / 255.0\n",
        "x_test_normalized = x_test / 255.0\n",
        "\n",
        "# Flatten the images\n",
        "x_train_flattened = x_train_normalized.reshape((x_train_normalized.shape[0], -1))\n",
        "x_test_flattened = x_test_normalized.reshape((x_test_normalized.shape[0], -1))\n",
        "\n",
        "x_train_flattened.shape, y_train.shape, x_test_flattened.shape, y_test.shape"
      ],
      "metadata": {
        "colab": {
          "base_uri": "https://localhost:8080/"
        },
        "id": "uIkP2lCl9n1J",
        "outputId": "95ec970b-b023-4b50-9b59-ca35885e27f6"
      },
      "execution_count": 12,
      "outputs": [
        {
          "output_type": "execute_result",
          "data": {
            "text/plain": [
              "((600, 196), (600,), (100, 196), (100,))"
            ]
          },
          "metadata": {},
          "execution_count": 12
        }
      ]
    },
    {
      "cell_type": "code",
      "source": [
        "device = \"cuda\" if torch.cuda.is_available() else \"cpu\"\n",
        "device = \"cpu\"\n",
        "# Convert to PyTorch tensors\n",
        "train_input_tensor = torch.tensor(x_train_flattened, dtype=torch.float64).to(device)\n",
        "test_input_tensor = torch.tensor(x_test_flattened, dtype=torch.float64).to(device)\n",
        "train_label_tensor = torch.tensor(y_train, dtype=torch.long).to(device)\n",
        "test_label_tensor = torch.tensor(y_test, dtype=torch.long).to(device)\n",
        "\n",
        "# Create the dataset dictionary\n",
        "dataset = {\n",
        "    'train_input': train_input_tensor,\n",
        "    'test_input': test_input_tensor,\n",
        "    'train_label': train_label_tensor,\n",
        "    'test_label': test_label_tensor\n",
        "}"
      ],
      "metadata": {
        "id": "kh3AVgenA5M8"
      },
      "execution_count": 13,
      "outputs": []
    },
    {
      "cell_type": "markdown",
      "source": [
        "## Model and Train"
      ],
      "metadata": {
        "id": "HOeBJFIP-OJY"
      }
    },
    {
      "cell_type": "code",
      "source": [
        "def train_acc():\n",
        "    return torch.mean((torch.argmax(model(dataset['train_input']), dim=1) == dataset['train_label']).float())\n",
        "\n",
        "def test_acc():\n",
        "    return torch.mean((torch.argmax(model(dataset['test_input']), dim=1) == dataset['test_label']).float()).to(device)\n",
        "\n",
        "torch.set_default_dtype(torch.float64)\n",
        "\n",
        "model = KAN(width=[x_train_flattened.shape[-1],10], grid=3, k=3, ).to(device)\n",
        "\n",
        "results = model.train(dataset, opt=\"LBFGS\", steps=50, metrics=(train_acc, test_acc), loss_fn=torch.nn.CrossEntropyLoss(), device =device );\n",
        "\n",
        "\n",
        "# grids = [5,10,20,50,100,500]\n",
        "\n",
        "# train_rmse = []\n",
        "# test_rmse = []\n",
        "\n",
        "# for i in range(len(grids)):\n",
        "#     model = KAN(width=[x_train_flattened.shape[-1],10], grid=grids[i], k=3, seed=0).initialize_from_another_model(model, dataset['train_input'])\n",
        "#     results = model.train(dataset, opt=\"LBFGS\", steps=50, stop_grid_update_step=30);\n",
        "#     train_rmse.append(results['train_loss'][-1].item())\n",
        "#     test_rmse.append(results['test_loss'][-1].item())"
      ],
      "metadata": {
        "colab": {
          "base_uri": "https://localhost:8080/",
          "height": 408
        },
        "id": "6OYusO1U-P0X",
        "outputId": "7b082c1f-1a62-4226-e062-d1dc3fef8d9f"
      },
      "execution_count": 14,
      "outputs": [
        {
          "output_type": "stream",
          "name": "stdout",
          "text": [
            "Directory already exists: ./model\n"
          ]
        },
        {
          "output_type": "stream",
          "name": "stderr",
          "text": [
            "train loss: 2.28e-09 | test loss: 2.91e+00 | reg: 1.13e+04 :  10%|▎  | 5/50 [02:02<18:22, 24.50s/it]\n"
          ]
        },
        {
          "output_type": "error",
          "ename": "RuntimeError",
          "evalue": "false INTERNAL ASSERT FAILED at \"../aten/src/ATen/native/BatchLinearAlgebra.cpp\":1537, please report a bug to PyTorch. torch.linalg.lstsq: (Batch element 0): Argument 4 has illegal value. Most certainly there is a bug in the implementation calling the backend library.",
          "traceback": [
            "\u001b[0;31m---------------------------------------------------------------------------\u001b[0m",
            "\u001b[0;31mRuntimeError\u001b[0m                              Traceback (most recent call last)",
            "\u001b[0;32m<ipython-input-14-7b2700d17fa5>\u001b[0m in \u001b[0;36m<cell line: 11>\u001b[0;34m()\u001b[0m\n\u001b[1;32m      9\u001b[0m \u001b[0mmodel\u001b[0m \u001b[0;34m=\u001b[0m \u001b[0mKAN\u001b[0m\u001b[0;34m(\u001b[0m\u001b[0mwidth\u001b[0m\u001b[0;34m=\u001b[0m\u001b[0;34m[\u001b[0m\u001b[0mx_train_flattened\u001b[0m\u001b[0;34m.\u001b[0m\u001b[0mshape\u001b[0m\u001b[0;34m[\u001b[0m\u001b[0;34m-\u001b[0m\u001b[0;36m1\u001b[0m\u001b[0;34m]\u001b[0m\u001b[0;34m,\u001b[0m\u001b[0;36m10\u001b[0m\u001b[0;34m]\u001b[0m\u001b[0;34m,\u001b[0m \u001b[0mgrid\u001b[0m\u001b[0;34m=\u001b[0m\u001b[0;36m3\u001b[0m\u001b[0;34m,\u001b[0m \u001b[0mk\u001b[0m\u001b[0;34m=\u001b[0m\u001b[0;36m3\u001b[0m\u001b[0;34m,\u001b[0m \u001b[0;34m)\u001b[0m\u001b[0;34m.\u001b[0m\u001b[0mto\u001b[0m\u001b[0;34m(\u001b[0m\u001b[0mdevice\u001b[0m\u001b[0;34m)\u001b[0m\u001b[0;34m\u001b[0m\u001b[0;34m\u001b[0m\u001b[0m\n\u001b[1;32m     10\u001b[0m \u001b[0;34m\u001b[0m\u001b[0m\n\u001b[0;32m---> 11\u001b[0;31m \u001b[0mresults\u001b[0m \u001b[0;34m=\u001b[0m \u001b[0mmodel\u001b[0m\u001b[0;34m.\u001b[0m\u001b[0mtrain\u001b[0m\u001b[0;34m(\u001b[0m\u001b[0mdataset\u001b[0m\u001b[0;34m,\u001b[0m \u001b[0mopt\u001b[0m\u001b[0;34m=\u001b[0m\u001b[0;34m\"LBFGS\"\u001b[0m\u001b[0;34m,\u001b[0m \u001b[0msteps\u001b[0m\u001b[0;34m=\u001b[0m\u001b[0;36m50\u001b[0m\u001b[0;34m,\u001b[0m \u001b[0mmetrics\u001b[0m\u001b[0;34m=\u001b[0m\u001b[0;34m(\u001b[0m\u001b[0mtrain_acc\u001b[0m\u001b[0;34m,\u001b[0m \u001b[0mtest_acc\u001b[0m\u001b[0;34m)\u001b[0m\u001b[0;34m,\u001b[0m \u001b[0mloss_fn\u001b[0m\u001b[0;34m=\u001b[0m\u001b[0mtorch\u001b[0m\u001b[0;34m.\u001b[0m\u001b[0mnn\u001b[0m\u001b[0;34m.\u001b[0m\u001b[0mCrossEntropyLoss\u001b[0m\u001b[0;34m(\u001b[0m\u001b[0;34m)\u001b[0m\u001b[0;34m,\u001b[0m \u001b[0mdevice\u001b[0m \u001b[0;34m=\u001b[0m\u001b[0mdevice\u001b[0m \u001b[0;34m)\u001b[0m\u001b[0;34m;\u001b[0m\u001b[0;34m\u001b[0m\u001b[0;34m\u001b[0m\u001b[0m\n\u001b[0m\u001b[1;32m     12\u001b[0m \u001b[0;34m\u001b[0m\u001b[0m\n\u001b[1;32m     13\u001b[0m \u001b[0;34m\u001b[0m\u001b[0m\n",
            "\u001b[0;32m/usr/local/lib/python3.10/dist-packages/kan/MultKAN.py\u001b[0m in \u001b[0;36mtrain\u001b[0;34m(self, dataset, opt, steps, log, lamb, lamb_l1, lamb_entropy, lamb_coef, lamb_coefdiff, update_grid, grid_update_num, loss_fn, lr, start_grid_update_step, stop_grid_update_step, batch, small_mag_threshold, small_reg_factor, metrics, save_fig, in_vars, out_vars, beta, save_fig_freq, img_folder, device, singularity_avoiding, y_th)\u001b[0m\n\u001b[1;32m    795\u001b[0m \u001b[0;34m\u001b[0m\u001b[0m\n\u001b[1;32m    796\u001b[0m             \u001b[0;32mif\u001b[0m \u001b[0m_\u001b[0m \u001b[0;34m%\u001b[0m \u001b[0mgrid_update_freq\u001b[0m \u001b[0;34m==\u001b[0m \u001b[0;36m0\u001b[0m \u001b[0;32mand\u001b[0m \u001b[0m_\u001b[0m \u001b[0;34m<\u001b[0m \u001b[0mstop_grid_update_step\u001b[0m \u001b[0;32mand\u001b[0m \u001b[0mupdate_grid\u001b[0m \u001b[0;32mand\u001b[0m \u001b[0m_\u001b[0m \u001b[0;34m>\u001b[0m \u001b[0mstart_grid_update_step\u001b[0m\u001b[0;34m:\u001b[0m\u001b[0;34m\u001b[0m\u001b[0;34m\u001b[0m\u001b[0m\n\u001b[0;32m--> 797\u001b[0;31m                 \u001b[0mself\u001b[0m\u001b[0;34m.\u001b[0m\u001b[0mupdate_grid_from_samples\u001b[0m\u001b[0;34m(\u001b[0m\u001b[0mdataset\u001b[0m\u001b[0;34m[\u001b[0m\u001b[0;34m'train_input'\u001b[0m\u001b[0;34m]\u001b[0m\u001b[0;34m[\u001b[0m\u001b[0mtrain_id\u001b[0m\u001b[0;34m]\u001b[0m\u001b[0;34m.\u001b[0m\u001b[0mto\u001b[0m\u001b[0;34m(\u001b[0m\u001b[0mdevice\u001b[0m\u001b[0;34m)\u001b[0m\u001b[0;34m)\u001b[0m\u001b[0;34m\u001b[0m\u001b[0;34m\u001b[0m\u001b[0m\n\u001b[0m\u001b[1;32m    798\u001b[0m \u001b[0;34m\u001b[0m\u001b[0m\n\u001b[1;32m    799\u001b[0m             \u001b[0;32mif\u001b[0m \u001b[0mopt\u001b[0m \u001b[0;34m==\u001b[0m \u001b[0;34m\"LBFGS\"\u001b[0m\u001b[0;34m:\u001b[0m\u001b[0;34m\u001b[0m\u001b[0;34m\u001b[0m\u001b[0m\n",
            "\u001b[0;32m/usr/local/lib/python3.10/dist-packages/kan/MultKAN.py\u001b[0m in \u001b[0;36mupdate_grid_from_samples\u001b[0;34m(self, x)\u001b[0m\n\u001b[1;32m    285\u001b[0m         \u001b[0;32mfor\u001b[0m \u001b[0ml\u001b[0m \u001b[0;32min\u001b[0m \u001b[0mrange\u001b[0m\u001b[0;34m(\u001b[0m\u001b[0mself\u001b[0m\u001b[0;34m.\u001b[0m\u001b[0mdepth\u001b[0m\u001b[0;34m)\u001b[0m\u001b[0;34m:\u001b[0m\u001b[0;34m\u001b[0m\u001b[0;34m\u001b[0m\u001b[0m\n\u001b[1;32m    286\u001b[0m             \u001b[0mself\u001b[0m\u001b[0;34m.\u001b[0m\u001b[0mforward\u001b[0m\u001b[0;34m(\u001b[0m\u001b[0mx\u001b[0m\u001b[0;34m)\u001b[0m\u001b[0;34m\u001b[0m\u001b[0;34m\u001b[0m\u001b[0m\n\u001b[0;32m--> 287\u001b[0;31m             \u001b[0mself\u001b[0m\u001b[0;34m.\u001b[0m\u001b[0mact_fun\u001b[0m\u001b[0;34m[\u001b[0m\u001b[0ml\u001b[0m\u001b[0;34m]\u001b[0m\u001b[0;34m.\u001b[0m\u001b[0mupdate_grid_from_samples\u001b[0m\u001b[0;34m(\u001b[0m\u001b[0mself\u001b[0m\u001b[0;34m.\u001b[0m\u001b[0macts\u001b[0m\u001b[0;34m[\u001b[0m\u001b[0ml\u001b[0m\u001b[0;34m]\u001b[0m\u001b[0;34m)\u001b[0m\u001b[0;34m\u001b[0m\u001b[0;34m\u001b[0m\u001b[0m\n\u001b[0m\u001b[1;32m    288\u001b[0m \u001b[0;34m\u001b[0m\u001b[0m\n\u001b[1;32m    289\u001b[0m     \u001b[0;32mdef\u001b[0m \u001b[0minitialize_grid_from_another_model\u001b[0m\u001b[0;34m(\u001b[0m\u001b[0mself\u001b[0m\u001b[0;34m,\u001b[0m \u001b[0mmodel\u001b[0m\u001b[0;34m,\u001b[0m \u001b[0mx\u001b[0m\u001b[0;34m)\u001b[0m\u001b[0;34m:\u001b[0m\u001b[0;34m\u001b[0m\u001b[0;34m\u001b[0m\u001b[0m\n",
            "\u001b[0;32m/usr/local/lib/python3.10/dist-packages/kan/KANLayer.py\u001b[0m in \u001b[0;36mupdate_grid_from_samples\u001b[0;34m(self, x)\u001b[0m\n\u001b[1;32m    228\u001b[0m         \u001b[0mgrid\u001b[0m \u001b[0;34m=\u001b[0m \u001b[0mself\u001b[0m\u001b[0;34m.\u001b[0m\u001b[0mgrid_eps\u001b[0m \u001b[0;34m*\u001b[0m \u001b[0mgrid_uniform\u001b[0m \u001b[0;34m+\u001b[0m \u001b[0;34m(\u001b[0m\u001b[0;36m1\u001b[0m \u001b[0;34m-\u001b[0m \u001b[0mself\u001b[0m\u001b[0;34m.\u001b[0m\u001b[0mgrid_eps\u001b[0m\u001b[0;34m)\u001b[0m \u001b[0;34m*\u001b[0m \u001b[0mgrid_adaptive\u001b[0m\u001b[0;34m\u001b[0m\u001b[0;34m\u001b[0m\u001b[0m\n\u001b[1;32m    229\u001b[0m         \u001b[0mself\u001b[0m\u001b[0;34m.\u001b[0m\u001b[0mgrid\u001b[0m\u001b[0;34m.\u001b[0m\u001b[0mdata\u001b[0m \u001b[0;34m=\u001b[0m \u001b[0mextend_grid\u001b[0m\u001b[0;34m(\u001b[0m\u001b[0mgrid\u001b[0m\u001b[0;34m,\u001b[0m \u001b[0mk_extend\u001b[0m\u001b[0;34m=\u001b[0m\u001b[0mself\u001b[0m\u001b[0;34m.\u001b[0m\u001b[0mk\u001b[0m\u001b[0;34m)\u001b[0m\u001b[0;34m\u001b[0m\u001b[0;34m\u001b[0m\u001b[0m\n\u001b[0;32m--> 230\u001b[0;31m         \u001b[0mself\u001b[0m\u001b[0;34m.\u001b[0m\u001b[0mcoef\u001b[0m\u001b[0;34m.\u001b[0m\u001b[0mdata\u001b[0m \u001b[0;34m=\u001b[0m \u001b[0mcurve2coef\u001b[0m\u001b[0;34m(\u001b[0m\u001b[0mx_pos\u001b[0m\u001b[0;34m,\u001b[0m \u001b[0my_eval\u001b[0m\u001b[0;34m,\u001b[0m \u001b[0mself\u001b[0m\u001b[0;34m.\u001b[0m\u001b[0mgrid\u001b[0m\u001b[0;34m,\u001b[0m \u001b[0mself\u001b[0m\u001b[0;34m.\u001b[0m\u001b[0mk\u001b[0m\u001b[0;34m,\u001b[0m \u001b[0mdevice\u001b[0m\u001b[0;34m=\u001b[0m\u001b[0mself\u001b[0m\u001b[0;34m.\u001b[0m\u001b[0mdevice\u001b[0m\u001b[0;34m)\u001b[0m\u001b[0;34m\u001b[0m\u001b[0;34m\u001b[0m\u001b[0m\n\u001b[0m\u001b[1;32m    231\u001b[0m \u001b[0;34m\u001b[0m\u001b[0m\n\u001b[1;32m    232\u001b[0m     \u001b[0;32mdef\u001b[0m \u001b[0minitialize_grid_from_parent\u001b[0m\u001b[0;34m(\u001b[0m\u001b[0mself\u001b[0m\u001b[0;34m,\u001b[0m \u001b[0mparent\u001b[0m\u001b[0;34m,\u001b[0m \u001b[0mx\u001b[0m\u001b[0;34m)\u001b[0m\u001b[0;34m:\u001b[0m\u001b[0;34m\u001b[0m\u001b[0;34m\u001b[0m\u001b[0m\n",
            "\u001b[0;32m/usr/local/lib/python3.10/dist-packages/kan/spline.py\u001b[0m in \u001b[0;36mcurve2coef\u001b[0;34m(x_eval, y_eval, grid, k, device)\u001b[0m\n\u001b[1;32m    164\u001b[0m     \u001b[0;31m# coef shape: (in_dim, outdim, G+k)\u001b[0m\u001b[0;34m\u001b[0m\u001b[0;34m\u001b[0m\u001b[0m\n\u001b[1;32m    165\u001b[0m     \u001b[0my_eval\u001b[0m \u001b[0;34m=\u001b[0m \u001b[0my_eval\u001b[0m\u001b[0;34m.\u001b[0m\u001b[0mpermute\u001b[0m\u001b[0;34m(\u001b[0m\u001b[0;36m1\u001b[0m\u001b[0;34m,\u001b[0m\u001b[0;36m2\u001b[0m\u001b[0;34m,\u001b[0m\u001b[0;36m0\u001b[0m\u001b[0;34m)\u001b[0m\u001b[0;34m.\u001b[0m\u001b[0munsqueeze\u001b[0m\u001b[0;34m(\u001b[0m\u001b[0mdim\u001b[0m\u001b[0;34m=\u001b[0m\u001b[0;36m3\u001b[0m\u001b[0;34m)\u001b[0m \u001b[0;31m# y_eval: (in_dim, out_dim, batch, 1)\u001b[0m\u001b[0;34m\u001b[0m\u001b[0;34m\u001b[0m\u001b[0m\n\u001b[0;32m--> 166\u001b[0;31m     coef = torch.linalg.lstsq(mat.to(device), y_eval.to(device),\n\u001b[0m\u001b[1;32m    167\u001b[0m                               driver='gelsy' if device == 'cpu' else 'gels').solution[:,:,:,0]\n\u001b[1;32m    168\u001b[0m     \u001b[0;32mreturn\u001b[0m \u001b[0mcoef\u001b[0m\u001b[0;34m.\u001b[0m\u001b[0mto\u001b[0m\u001b[0;34m(\u001b[0m\u001b[0mdevice\u001b[0m\u001b[0;34m)\u001b[0m\u001b[0;34m\u001b[0m\u001b[0;34m\u001b[0m\u001b[0m\n",
            "\u001b[0;31mRuntimeError\u001b[0m: false INTERNAL ASSERT FAILED at \"../aten/src/ATen/native/BatchLinearAlgebra.cpp\":1537, please report a bug to PyTorch. torch.linalg.lstsq: (Batch element 0): Argument 4 has illegal value. Most certainly there is a bug in the implementation calling the backend library."
          ]
        }
      ]
    },
    {
      "cell_type": "markdown",
      "source": [
        "# Efficient KAN"
      ],
      "metadata": {
        "id": "n_dxX3xmMZEx"
      }
    },
    {
      "cell_type": "markdown",
      "source": [
        "## Model"
      ],
      "metadata": {
        "id": "wG24W7ajeEOC"
      }
    },
    {
      "cell_type": "code",
      "source": [
        "import torch\n",
        "import torch.nn.functional as F\n",
        "import math\n",
        "\n",
        "\n",
        "class KANLinear(torch.nn.Module):\n",
        "    def __init__(\n",
        "        self,\n",
        "        in_features,\n",
        "        out_features,\n",
        "        grid_size=5,\n",
        "        spline_order=3,\n",
        "        scale_noise=0.1,\n",
        "        scale_base=1.0,\n",
        "        scale_spline=1.0,\n",
        "        enable_standalone_scale_spline=True,\n",
        "        base_activation=torch.nn.SiLU,\n",
        "        grid_eps=0.02,\n",
        "        grid_range=[-1, 1],\n",
        "    ):\n",
        "        super(KANLinear, self).__init__()\n",
        "        self.in_features = in_features\n",
        "        self.out_features = out_features\n",
        "        self.grid_size = grid_size\n",
        "        self.spline_order = spline_order\n",
        "\n",
        "        h = (grid_range[1] - grid_range[0]) / grid_size\n",
        "        grid = (\n",
        "            (\n",
        "                torch.arange(-spline_order, grid_size + spline_order + 1) * h\n",
        "                + grid_range[0]\n",
        "            )\n",
        "            .expand(in_features, -1)\n",
        "            .contiguous()\n",
        "        )\n",
        "        self.register_buffer(\"grid\", grid)\n",
        "\n",
        "        self.base_weight = torch.nn.Parameter(torch.Tensor(out_features, in_features))\n",
        "        self.spline_weight = torch.nn.Parameter(\n",
        "            torch.Tensor(out_features, in_features, grid_size + spline_order)\n",
        "        )\n",
        "        if enable_standalone_scale_spline:\n",
        "            self.spline_scaler = torch.nn.Parameter(\n",
        "                torch.Tensor(out_features, in_features)\n",
        "            )\n",
        "\n",
        "        self.scale_noise = scale_noise\n",
        "        self.scale_base = scale_base\n",
        "        self.scale_spline = scale_spline\n",
        "        self.enable_standalone_scale_spline = enable_standalone_scale_spline\n",
        "        self.base_activation = base_activation()\n",
        "        self.grid_eps = grid_eps\n",
        "\n",
        "        self.reset_parameters()\n",
        "\n",
        "    def reset_parameters(self):\n",
        "        torch.nn.init.kaiming_uniform_(self.base_weight, a=math.sqrt(5) * self.scale_base)\n",
        "        with torch.no_grad():\n",
        "            noise = (\n",
        "                (\n",
        "                    torch.rand(self.grid_size + 1, self.in_features, self.out_features)\n",
        "                    - 1 / 2\n",
        "                )\n",
        "                * self.scale_noise\n",
        "                / self.grid_size\n",
        "            )\n",
        "            self.spline_weight.data.copy_(\n",
        "                (self.scale_spline if not self.enable_standalone_scale_spline else 1.0)\n",
        "                * self.curve2coeff(\n",
        "                    self.grid.T[self.spline_order : -self.spline_order],\n",
        "                    noise,\n",
        "                )\n",
        "            )\n",
        "            if self.enable_standalone_scale_spline:\n",
        "                # torch.nn.init.constant_(self.spline_scaler, self.scale_spline)\n",
        "                torch.nn.init.kaiming_uniform_(self.spline_scaler, a=math.sqrt(5) * self.scale_spline)\n",
        "\n",
        "    def b_splines(self, x: torch.Tensor):\n",
        "        \"\"\"\n",
        "        Compute the B-spline bases for the given input tensor.\n",
        "\n",
        "        Args:\n",
        "            x (torch.Tensor): Input tensor of shape (batch_size, in_features).\n",
        "\n",
        "        Returns:\n",
        "            torch.Tensor: B-spline bases tensor of shape (batch_size, in_features, grid_size + spline_order).\n",
        "        \"\"\"\n",
        "        assert x.dim() == 2 and x.size(1) == self.in_features\n",
        "\n",
        "        grid: torch.Tensor = (\n",
        "            self.grid\n",
        "        )  # (in_features, grid_size + 2 * spline_order + 1)\n",
        "        x = x.unsqueeze(-1)\n",
        "        bases = ((x >= grid[:, :-1]) & (x < grid[:, 1:])).to(x.dtype)\n",
        "        for k in range(1, self.spline_order + 1):\n",
        "            bases = (\n",
        "                (x - grid[:, : -(k + 1)])\n",
        "                / (grid[:, k:-1] - grid[:, : -(k + 1)])\n",
        "                * bases[:, :, :-1]\n",
        "            ) + (\n",
        "                (grid[:, k + 1 :] - x)\n",
        "                / (grid[:, k + 1 :] - grid[:, 1:(-k)])\n",
        "                * bases[:, :, 1:]\n",
        "            )\n",
        "\n",
        "        assert bases.size() == (\n",
        "            x.size(0),\n",
        "            self.in_features,\n",
        "            self.grid_size + self.spline_order,\n",
        "        )\n",
        "        return bases.contiguous()\n",
        "\n",
        "    def curve2coeff(self, x: torch.Tensor, y: torch.Tensor):\n",
        "        \"\"\"\n",
        "        Compute the coefficients of the curve that interpolates the given points.\n",
        "\n",
        "        Args:\n",
        "            x (torch.Tensor): Input tensor of shape (batch_size, in_features).\n",
        "            y (torch.Tensor): Output tensor of shape (batch_size, in_features, out_features).\n",
        "\n",
        "        Returns:\n",
        "            torch.Tensor: Coefficients tensor of shape (out_features, in_features, grid_size + spline_order).\n",
        "        \"\"\"\n",
        "        assert x.dim() == 2 and x.size(1) == self.in_features\n",
        "        assert y.size() == (x.size(0), self.in_features, self.out_features)\n",
        "\n",
        "        A = self.b_splines(x).transpose(\n",
        "            0, 1\n",
        "        )  # (in_features, batch_size, grid_size + spline_order)\n",
        "        B = y.transpose(0, 1)  # (in_features, batch_size, out_features)\n",
        "        solution = torch.linalg.lstsq(\n",
        "            A, B\n",
        "        ).solution  # (in_features, grid_size + spline_order, out_features)\n",
        "        result = solution.permute(\n",
        "            2, 0, 1\n",
        "        )  # (out_features, in_features, grid_size + spline_order)\n",
        "\n",
        "        assert result.size() == (\n",
        "            self.out_features,\n",
        "            self.in_features,\n",
        "            self.grid_size + self.spline_order,\n",
        "        )\n",
        "        return result.contiguous()\n",
        "\n",
        "    @property\n",
        "    def scaled_spline_weight(self):\n",
        "        return self.spline_weight * (\n",
        "            self.spline_scaler.unsqueeze(-1)\n",
        "            if self.enable_standalone_scale_spline\n",
        "            else 1.0\n",
        "        )\n",
        "\n",
        "    def forward(self, x: torch.Tensor):\n",
        "        assert x.size(-1) == self.in_features\n",
        "        original_shape = x.shape\n",
        "        x = x.reshape(-1, self.in_features)\n",
        "\n",
        "        base_output = F.linear(self.base_activation(x), self.base_weight)\n",
        "        spline_output = F.linear(\n",
        "            self.b_splines(x).view(x.size(0), -1),\n",
        "            self.scaled_spline_weight.view(self.out_features, -1),\n",
        "        )\n",
        "        output = base_output + spline_output\n",
        "\n",
        "        output = output.reshape(*original_shape[:-1], self.out_features)\n",
        "        return output\n",
        "\n",
        "    @torch.no_grad()\n",
        "    def update_grid(self, x: torch.Tensor, margin=0.01):\n",
        "        assert x.dim() == 2 and x.size(1) == self.in_features\n",
        "        batch = x.size(0)\n",
        "\n",
        "        splines = self.b_splines(x)  # (batch, in, coeff)\n",
        "        splines = splines.permute(1, 0, 2)  # (in, batch, coeff)\n",
        "        orig_coeff = self.scaled_spline_weight  # (out, in, coeff)\n",
        "        orig_coeff = orig_coeff.permute(1, 2, 0)  # (in, coeff, out)\n",
        "        unreduced_spline_output = torch.bmm(splines, orig_coeff)  # (in, batch, out)\n",
        "        unreduced_spline_output = unreduced_spline_output.permute(\n",
        "            1, 0, 2\n",
        "        )  # (batch, in, out)\n",
        "\n",
        "        # sort each channel individually to collect data distribution\n",
        "        x_sorted = torch.sort(x, dim=0)[0]\n",
        "        grid_adaptive = x_sorted[\n",
        "            torch.linspace(\n",
        "                0, batch - 1, self.grid_size + 1, dtype=torch.int64, device=x.device\n",
        "            )\n",
        "        ]\n",
        "\n",
        "        uniform_step = (x_sorted[-1] - x_sorted[0] + 2 * margin) / self.grid_size\n",
        "        grid_uniform = (\n",
        "            torch.arange(\n",
        "                self.grid_size + 1, dtype=torch.float32, device=x.device\n",
        "            ).unsqueeze(1)\n",
        "            * uniform_step\n",
        "            + x_sorted[0]\n",
        "            - margin\n",
        "        )\n",
        "\n",
        "        grid = self.grid_eps * grid_uniform + (1 - self.grid_eps) * grid_adaptive\n",
        "        grid = torch.concatenate(\n",
        "            [\n",
        "                grid[:1]\n",
        "                - uniform_step\n",
        "                * torch.arange(self.spline_order, 0, -1, device=x.device).unsqueeze(1),\n",
        "                grid,\n",
        "                grid[-1:]\n",
        "                + uniform_step\n",
        "                * torch.arange(1, self.spline_order + 1, device=x.device).unsqueeze(1),\n",
        "            ],\n",
        "            dim=0,\n",
        "        )\n",
        "\n",
        "        self.grid.copy_(grid.T)\n",
        "        self.spline_weight.data.copy_(self.curve2coeff(x, unreduced_spline_output))\n",
        "\n",
        "    def regularization_loss(self, regularize_activation=1.0, regularize_entropy=1.0):\n",
        "        \"\"\"\n",
        "        Compute the regularization loss.\n",
        "\n",
        "        This is a dumb simulation of the original L1 regularization as stated in the\n",
        "        paper, since the original one requires computing absolutes and entropy from the\n",
        "        expanded (batch, in_features, out_features) intermediate tensor, which is hidden\n",
        "        behind the F.linear function if we want an memory efficient implementation.\n",
        "\n",
        "        The L1 regularization is now computed as mean absolute value of the spline\n",
        "        weights. The authors implementation also includes this term in addition to the\n",
        "        sample-based regularization.\n",
        "        \"\"\"\n",
        "        l1_fake = self.spline_weight.abs().mean(-1)\n",
        "        regularization_loss_activation = l1_fake.sum()\n",
        "        p = l1_fake / regularization_loss_activation\n",
        "        regularization_loss_entropy = -torch.sum(p * p.log())\n",
        "        return (\n",
        "            regularize_activation * regularization_loss_activation\n",
        "            + regularize_entropy * regularization_loss_entropy\n",
        "        )\n",
        "\n",
        "\n",
        "class EfficientKAN(torch.nn.Module):\n",
        "    def __init__(\n",
        "        self,\n",
        "        layers_hidden,\n",
        "        grid_size=5,\n",
        "        spline_order=3,\n",
        "        scale_noise=0.1,\n",
        "        scale_base=1.0,\n",
        "        scale_spline=1.0,\n",
        "        base_activation=torch.nn.SiLU,\n",
        "        grid_eps=0.02,\n",
        "        grid_range=[-1, 1],\n",
        "    ):\n",
        "        super(KAN, self).__init__()\n",
        "        self.grid_size = grid_size\n",
        "        self.spline_order = spline_order\n",
        "\n",
        "        self.layers = torch.nn.ModuleList()\n",
        "        for in_features, out_features in zip(layers_hidden, layers_hidden[1:]):\n",
        "            self.layers.append(\n",
        "                KANLinear(\n",
        "                    in_features,\n",
        "                    out_features,\n",
        "                    grid_size=grid_size,\n",
        "                    spline_order=spline_order,\n",
        "                    scale_noise=scale_noise,\n",
        "                    scale_base=scale_base,\n",
        "                    scale_spline=scale_spline,\n",
        "                    base_activation=base_activation,\n",
        "                    grid_eps=grid_eps,\n",
        "                    grid_range=grid_range,\n",
        "                )\n",
        "            )\n",
        "\n",
        "    def forward(self, x: torch.Tensor, update_grid=False):\n",
        "        for layer in self.layers:\n",
        "            if update_grid:\n",
        "                layer.update_grid(x)\n",
        "            x = layer(x)\n",
        "        return x\n",
        "\n",
        "    def regularization_loss(self, regularize_activation=1.0, regularize_entropy=1.0):\n",
        "        return sum(\n",
        "            layer.regularization_loss(regularize_activation, regularize_entropy)\n",
        "            for layer in self.layers\n",
        "        )"
      ],
      "metadata": {
        "id": "AFLO9lo4Mm5Z"
      },
      "execution_count": 17,
      "outputs": []
    },
    {
      "cell_type": "markdown",
      "source": [
        "## Train\n"
      ],
      "metadata": {
        "id": "5dGAsDhaeI7d"
      }
    },
    {
      "cell_type": "code",
      "source": [
        "IMG_SIZE = 14\n",
        "\n",
        "# Load MNIST\n",
        "transform = transforms.Compose(\n",
        "    [transforms.ToTensor(), transforms.Resize((IMG_SIZE, IMG_SIZE))]\n",
        ")\n",
        "trainset = torchvision.datasets.MNIST(\n",
        "    root=\"./data\", train=True, download=True, transform=transform\n",
        ")\n",
        "valset = torchvision.datasets.MNIST(\n",
        "    root=\"./data\", train=False, download=True, transform=transform\n",
        ")\n",
        "trainloader = DataLoader(trainset, batch_size=1024, shuffle=True)\n",
        "valloader = DataLoader(valset, batch_size=1024 * 16, shuffle=False)\n",
        "\n",
        "# Define model\n",
        "model = EfficientKAN([IMG_SIZE ** 2, 10])\n",
        "device = torch.device(\"cuda\" if torch.cuda.is_available() else \"cpu\")\n",
        "model.to(device)\n",
        "\n",
        "# Define optimizer\n",
        "optimizer = optim.AdamW(model.parameters(), lr=1e-3, weight_decay=1e-4)\n",
        "# Define learning rate scheduler\n",
        "scheduler = optim.lr_scheduler.ReduceLROnPlateau(optimizer)\n",
        "\n",
        "# Define loss\n",
        "criterion = nn.CrossEntropyLoss()\n",
        "\n",
        "# Lists to store metrics\n",
        "train_losses = []\n",
        "train_accuracies = []\n",
        "val_losses = []\n",
        "val_accuracies = []\n",
        "\n",
        "for epoch in range(100):\n",
        "    # Train\n",
        "    model.train()\n",
        "    running_loss = 0\n",
        "    running_accuracy = 0\n",
        "    with tqdm(trainloader) as pbar:\n",
        "        for i, (images, labels) in enumerate(pbar):\n",
        "            images = images.view(-1, IMG_SIZE**2 ).to(device)\n",
        "            optimizer.zero_grad()\n",
        "            output = model(images)\n",
        "            loss = criterion(output, labels.to(device))\n",
        "            loss.backward()\n",
        "            optimizer.step()\n",
        "            accuracy = (output.argmax(dim=1) == labels.to(device)).float().mean()\n",
        "            running_loss += loss.item()\n",
        "            running_accuracy += accuracy.item()\n",
        "            pbar.set_postfix(loss=loss.item(), accuracy=accuracy.item(), lr=optimizer.param_groups[0]['lr'])\n",
        "\n",
        "    train_loss = running_loss / len(trainloader)\n",
        "    train_accuracy = running_accuracy / len(trainloader)\n",
        "    train_losses.append(train_loss)\n",
        "    train_accuracies.append(train_accuracy)\n",
        "\n",
        "    # Validation\n",
        "    model.eval()\n",
        "    val_loss = 0\n",
        "    val_accuracy = 0\n",
        "    with torch.no_grad():\n",
        "        for images, labels in valloader:\n",
        "            images = images.view(-1, IMG_SIZE**2).to(device)\n",
        "            output = model(images)\n",
        "            val_loss += criterion(output, labels.to(device)).item()\n",
        "            val_accuracy += (\n",
        "                (output.argmax(dim=1) == labels.to(device)).float().mean().item()\n",
        "            )\n",
        "    val_loss /= len(valloader)\n",
        "    val_accuracy /= len(valloader)\n",
        "    val_losses.append(val_loss)\n",
        "    val_accuracies.append(val_accuracy)\n",
        "\n",
        "    # Update learning rate\n",
        "    scheduler.step(val_loss)\n",
        "\n",
        "    print(\n",
        "        f\"Epoch {epoch + 1}, Train Loss: {train_loss}, Train Accuracy: {train_accuracy}, Val Loss: {val_loss}, Val Accuracy: {val_accuracy}\"\n",
        "    )\n",
        "\n"
      ],
      "metadata": {
        "colab": {
          "base_uri": "https://localhost:8080/"
        },
        "id": "0ts1WWZ9NAeB",
        "outputId": "125be993-81cd-46f7-f4b6-08dd0503130b"
      },
      "execution_count": null,
      "outputs": [
        {
          "metadata": {
            "tags": null
          },
          "name": "stderr",
          "output_type": "stream",
          "text": [
            "100%|██████████| 59/59 [00:12<00:00,  4.65it/s, accuracy=0.727, loss=1.78, lr=0.001]\n"
          ]
        },
        {
          "metadata": {
            "tags": null
          },
          "name": "stdout",
          "output_type": "stream",
          "text": [
            "Epoch 1, Train Loss: 2.041449334661839, Train Accuracy: 0.5597759050838018, Val Loss: 1.7559857368469238, Val Accuracy: 0.7476999759674072\n"
          ]
        },
        {
          "metadata": {
            "tags": null
          },
          "name": "stderr",
          "output_type": "stream",
          "text": [
            "100%|██████████| 59/59 [00:13<00:00,  4.45it/s, accuracy=0.822, loss=1.22, lr=0.001]\n"
          ]
        },
        {
          "metadata": {
            "tags": null
          },
          "name": "stdout",
          "output_type": "stream",
          "text": [
            "Epoch 2, Train Loss: 1.4928487175602023, Train Accuracy: 0.7698309270002074, Val Loss: 1.2091498374938965, Val Accuracy: 0.814799964427948\n"
          ]
        },
        {
          "metadata": {
            "tags": null
          },
          "name": "stderr",
          "output_type": "stream",
          "text": [
            "100%|██████████| 59/59 [00:12<00:00,  4.55it/s, accuracy=0.829, loss=0.851, lr=0.001]\n"
          ]
        },
        {
          "metadata": {
            "tags": null
          },
          "name": "stdout",
          "output_type": "stream",
          "text": [
            "Epoch 3, Train Loss: 1.0332886051323453, Train Accuracy: 0.8166022593692198, Val Loss: 0.8431289792060852, Val Accuracy: 0.8460999727249146\n"
          ]
        },
        {
          "metadata": {
            "tags": null
          },
          "name": "stderr",
          "output_type": "stream",
          "text": [
            "100%|██████████| 59/59 [00:12<00:00,  4.56it/s, accuracy=0.854, loss=0.67, lr=0.001]\n"
          ]
        },
        {
          "metadata": {
            "tags": null
          },
          "name": "stdout",
          "output_type": "stream",
          "text": [
            "Epoch 4, Train Loss: 0.7562961174269854, Train Accuracy: 0.8486180032713938, Val Loss: 0.6398264169692993, Val Accuracy: 0.864799976348877\n"
          ]
        },
        {
          "metadata": {
            "tags": null
          },
          "name": "stderr",
          "output_type": "stream",
          "text": [
            "100%|██████████| 59/59 [00:12<00:00,  4.62it/s, accuracy=0.888, loss=0.545, lr=0.001]\n"
          ]
        },
        {
          "metadata": {
            "tags": null
          },
          "name": "stdout",
          "output_type": "stream",
          "text": [
            "Epoch 5, Train Loss: 0.5998908624810687, Train Accuracy: 0.8685857007059, Val Loss: 0.5232707262039185, Val Accuracy: 0.8816999793052673\n"
          ]
        },
        {
          "metadata": {
            "tags": null
          },
          "name": "stderr",
          "output_type": "stream",
          "text": [
            "100%|██████████| 59/59 [00:13<00:00,  4.54it/s, accuracy=0.896, loss=0.462, lr=0.001]\n"
          ]
        },
        {
          "metadata": {
            "tags": null
          },
          "name": "stdout",
          "output_type": "stream",
          "text": [
            "Epoch 6, Train Loss: 0.5058559502585459, Train Accuracy: 0.881370741431996, Val Loss: 0.45007777214050293, Val Accuracy: 0.8946999907493591\n"
          ]
        },
        {
          "metadata": {
            "tags": null
          },
          "name": "stderr",
          "output_type": "stream",
          "text": [
            "100%|██████████| 59/59 [00:12<00:00,  4.56it/s, accuracy=0.895, loss=0.431, lr=0.001]\n"
          ]
        },
        {
          "metadata": {
            "tags": null
          },
          "name": "stdout",
          "output_type": "stream",
          "text": [
            "Epoch 7, Train Loss: 0.4451657791258925, Train Accuracy: 0.8906946919732175, Val Loss: 0.4015207886695862, Val Accuracy: 0.901699960231781\n"
          ]
        },
        {
          "metadata": {
            "tags": null
          },
          "name": "stderr",
          "output_type": "stream",
          "text": [
            "100%|██████████| 59/59 [00:12<00:00,  4.61it/s, accuracy=0.89, loss=0.403, lr=0.001]\n"
          ]
        },
        {
          "metadata": {
            "tags": null
          },
          "name": "stdout",
          "output_type": "stream",
          "text": [
            "Epoch 8, Train Loss: 0.4031809229971999, Train Accuracy: 0.8982911463511192, Val Loss: 0.36747437715530396, Val Accuracy: 0.9068999886512756\n"
          ]
        },
        {
          "metadata": {
            "tags": null
          },
          "name": "stderr",
          "output_type": "stream",
          "text": [
            "100%|██████████| 59/59 [00:12<00:00,  4.69it/s, accuracy=0.921, loss=0.33, lr=0.001]\n"
          ]
        },
        {
          "metadata": {
            "tags": null
          },
          "name": "stdout",
          "output_type": "stream",
          "text": [
            "Epoch 9, Train Loss: 0.372575100700734, Train Accuracy: 0.9034056855460345, Val Loss: 0.3432692289352417, Val Accuracy: 0.9101999998092651\n"
          ]
        },
        {
          "metadata": {
            "tags": null
          },
          "name": "stderr",
          "output_type": "stream",
          "text": [
            "100%|██████████| 59/59 [00:12<00:00,  4.55it/s, accuracy=0.916, loss=0.304, lr=0.001]\n"
          ]
        },
        {
          "metadata": {
            "tags": null
          },
          "name": "stdout",
          "output_type": "stream",
          "text": [
            "Epoch 10, Train Loss: 0.34962356747206996, Train Accuracy: 0.9080062447968176, Val Loss: 0.3236671984195709, Val Accuracy: 0.913599967956543\n"
          ]
        },
        {
          "metadata": {
            "tags": null
          },
          "name": "stderr",
          "output_type": "stream",
          "text": [
            "100%|██████████| 59/59 [00:12<00:00,  4.60it/s, accuracy=0.929, loss=0.321, lr=0.001]\n"
          ]
        },
        {
          "metadata": {
            "tags": null
          },
          "name": "stdout",
          "output_type": "stream",
          "text": [
            "Epoch 11, Train Loss: 0.331815396830187, Train Accuracy: 0.9115230895705142, Val Loss: 0.30890920758247375, Val Accuracy: 0.9177999496459961\n"
          ]
        },
        {
          "metadata": {
            "tags": null
          },
          "name": "stderr",
          "output_type": "stream",
          "text": [
            "100%|██████████| 59/59 [00:12<00:00,  4.64it/s, accuracy=0.919, loss=0.28, lr=0.001]\n"
          ]
        },
        {
          "metadata": {
            "tags": null
          },
          "name": "stdout",
          "output_type": "stream",
          "text": [
            "Epoch 12, Train Loss: 0.31759850301985015, Train Accuracy: 0.9139213733753916, Val Loss: 0.29710811376571655, Val Accuracy: 0.9202999472618103\n"
          ]
        },
        {
          "metadata": {
            "tags": null
          },
          "name": "stderr",
          "output_type": "stream",
          "text": [
            "100%|██████████| 59/59 [00:12<00:00,  4.65it/s, accuracy=0.916, loss=0.275, lr=0.001]\n"
          ]
        },
        {
          "metadata": {
            "tags": null
          },
          "name": "stdout",
          "output_type": "stream",
          "text": [
            "Epoch 13, Train Loss: 0.30564019538588444, Train Accuracy: 0.9161332310256312, Val Loss: 0.2876334488391876, Val Accuracy: 0.9217000007629395\n"
          ]
        },
        {
          "metadata": {
            "tags": null
          },
          "name": "stderr",
          "output_type": "stream",
          "text": [
            "100%|██████████| 59/59 [00:12<00:00,  4.65it/s, accuracy=0.929, loss=0.294, lr=0.001]\n"
          ]
        },
        {
          "metadata": {
            "tags": null
          },
          "name": "stdout",
          "output_type": "stream",
          "text": [
            "Epoch 14, Train Loss: 0.29590256865751946, Train Accuracy: 0.9190376552484804, Val Loss: 0.2790153920650482, Val Accuracy: 0.9231999516487122\n"
          ]
        },
        {
          "metadata": {
            "tags": null
          },
          "name": "stderr",
          "output_type": "stream",
          "text": [
            "100%|██████████| 59/59 [00:12<00:00,  4.66it/s, accuracy=0.938, loss=0.224, lr=0.001]\n"
          ]
        },
        {
          "metadata": {
            "tags": null
          },
          "name": "stdout",
          "output_type": "stream",
          "text": [
            "Epoch 15, Train Loss: 0.28730771652722764, Train Accuracy: 0.9204184322033898, Val Loss: 0.2723753750324249, Val Accuracy: 0.924299955368042\n"
          ]
        },
        {
          "metadata": {
            "tags": null
          },
          "name": "stderr",
          "output_type": "stream",
          "text": [
            "100%|██████████| 59/59 [00:12<00:00,  4.63it/s, accuracy=0.918, loss=0.296, lr=0.001]\n"
          ]
        },
        {
          "metadata": {
            "tags": null
          },
          "name": "stdout",
          "output_type": "stream",
          "text": [
            "Epoch 16, Train Loss: 0.28050234231908444, Train Accuracy: 0.9219542751877995, Val Loss: 0.2666015326976776, Val Accuracy: 0.9253000020980835\n"
          ]
        },
        {
          "metadata": {
            "tags": null
          },
          "name": "stderr",
          "output_type": "stream",
          "text": [
            "100%|██████████| 59/59 [00:12<00:00,  4.62it/s, accuracy=0.926, loss=0.288, lr=0.001]\n"
          ]
        },
        {
          "metadata": {
            "tags": null
          },
          "name": "stdout",
          "output_type": "stream",
          "text": [
            "Epoch 17, Train Loss: 0.2742718857223705, Train Accuracy: 0.9234509154901667, Val Loss: 0.26185256242752075, Val Accuracy: 0.9266999959945679\n"
          ]
        },
        {
          "metadata": {
            "tags": null
          },
          "name": "stderr",
          "output_type": "stream",
          "text": [
            "100%|██████████| 59/59 [00:12<00:00,  4.60it/s, accuracy=0.947, loss=0.246, lr=0.001]\n"
          ]
        },
        {
          "metadata": {
            "tags": null
          },
          "name": "stdout",
          "output_type": "stream",
          "text": [
            "Epoch 18, Train Loss: 0.268152183142759, Train Accuracy: 0.9249885011527498, Val Loss: 0.25732913613319397, Val Accuracy: 0.9280999898910522\n"
          ]
        },
        {
          "metadata": {
            "tags": null
          },
          "name": "stderr",
          "output_type": "stream",
          "text": [
            "100%|██████████| 59/59 [00:12<00:00,  4.61it/s, accuracy=0.91, loss=0.311, lr=0.001]\n"
          ]
        },
        {
          "metadata": {
            "tags": null
          },
          "name": "stdout",
          "output_type": "stream",
          "text": [
            "Epoch 19, Train Loss: 0.263705122016244, Train Accuracy: 0.925737692137896, Val Loss: 0.2538740336894989, Val Accuracy: 0.9294999837875366\n"
          ]
        },
        {
          "metadata": {
            "tags": null
          },
          "name": "stderr",
          "output_type": "stream",
          "text": [
            "100%|██████████| 59/59 [00:12<00:00,  4.65it/s, accuracy=0.942, loss=0.209, lr=0.001]\n"
          ]
        },
        {
          "metadata": {
            "tags": null
          },
          "name": "stdout",
          "output_type": "stream",
          "text": [
            "Epoch 20, Train Loss: 0.25859764268842794, Train Accuracy: 0.9271559290966745, Val Loss: 0.25068098306655884, Val Accuracy: 0.9305999875068665\n"
          ]
        },
        {
          "metadata": {
            "tags": null
          },
          "name": "stderr",
          "output_type": "stream",
          "text": [
            "100%|██████████| 59/59 [00:12<00:00,  4.61it/s, accuracy=0.929, loss=0.294, lr=0.001]\n"
          ]
        },
        {
          "metadata": {
            "tags": null
          },
          "name": "stdout",
          "output_type": "stream",
          "text": [
            "Epoch 21, Train Loss: 0.2552166654396865, Train Accuracy: 0.9282405154179718, Val Loss: 0.24693693220615387, Val Accuracy: 0.9310999512672424\n"
          ]
        },
        {
          "metadata": {
            "tags": null
          },
          "name": "stderr",
          "output_type": "stream",
          "text": [
            "100%|██████████| 59/59 [00:12<00:00,  4.65it/s, accuracy=0.929, loss=0.238, lr=0.001]\n"
          ]
        },
        {
          "metadata": {
            "tags": null
          },
          "name": "stdout",
          "output_type": "stream",
          "text": [
            "Epoch 22, Train Loss: 0.25103475102933787, Train Accuracy: 0.9290019031298362, Val Loss: 0.24521130323410034, Val Accuracy: 0.9322999715805054\n"
          ]
        },
        {
          "metadata": {
            "tags": null
          },
          "name": "stderr",
          "output_type": "stream",
          "text": [
            "100%|██████████| 59/59 [00:14<00:00,  4.14it/s, accuracy=0.936, loss=0.241, lr=0.001]\n"
          ]
        },
        {
          "metadata": {
            "tags": null
          },
          "name": "stdout",
          "output_type": "stream",
          "text": [
            "Epoch 23, Train Loss: 0.2478300158755254, Train Accuracy: 0.9299575575327469, Val Loss: 0.24227139353752136, Val Accuracy: 0.9333999752998352\n"
          ]
        },
        {
          "metadata": {
            "tags": null
          },
          "name": "stderr",
          "output_type": "stream",
          "text": [
            "100%|██████████| 59/59 [00:14<00:00,  3.94it/s, accuracy=0.908, loss=0.273, lr=0.001]\n"
          ]
        },
        {
          "metadata": {
            "tags": null
          },
          "name": "stdout",
          "output_type": "stream",
          "text": [
            "Epoch 24, Train Loss: 0.24498919864832344, Train Accuracy: 0.9308409064503039, Val Loss: 0.23937182128429413, Val Accuracy: 0.9348999857902527\n"
          ]
        },
        {
          "metadata": {
            "tags": null
          },
          "name": "stderr",
          "output_type": "stream",
          "text": [
            "100%|██████████| 59/59 [00:14<00:00,  3.96it/s, accuracy=0.928, loss=0.203, lr=0.001]\n"
          ]
        },
        {
          "metadata": {
            "tags": null
          },
          "name": "stdout",
          "output_type": "stream",
          "text": [
            "Epoch 25, Train Loss: 0.24148394116910837, Train Accuracy: 0.9315892266014875, Val Loss: 0.2372584044933319, Val Accuracy: 0.9345999956130981\n"
          ]
        },
        {
          "metadata": {
            "tags": null
          },
          "name": "stderr",
          "output_type": "stream",
          "text": [
            "100%|██████████| 59/59 [00:14<00:00,  3.97it/s, accuracy=0.931, loss=0.255, lr=0.001]\n"
          ]
        },
        {
          "metadata": {
            "tags": null
          },
          "name": "stdout",
          "output_type": "stream",
          "text": [
            "Epoch 26, Train Loss: 0.23916844190177272, Train Accuracy: 0.9324394727157335, Val Loss: 0.2353191375732422, Val Accuracy: 0.9354999661445618\n"
          ]
        },
        {
          "metadata": {
            "tags": null
          },
          "name": "stderr",
          "output_type": "stream",
          "text": [
            "100%|██████████| 59/59 [00:15<00:00,  3.79it/s, accuracy=0.936, loss=0.208, lr=0.001]\n"
          ]
        },
        {
          "metadata": {
            "tags": null
          },
          "name": "stdout",
          "output_type": "stream",
          "text": [
            "Epoch 27, Train Loss: 0.2364247734263792, Train Accuracy: 0.9330196602869842, Val Loss: 0.23216862976551056, Val Accuracy: 0.9358999729156494\n"
          ]
        },
        {
          "metadata": {
            "tags": null
          },
          "name": "stderr",
          "output_type": "stream",
          "text": [
            "100%|██████████| 59/59 [00:14<00:00,  3.98it/s, accuracy=0.941, loss=0.248, lr=0.001]\n"
          ]
        },
        {
          "metadata": {
            "tags": null
          },
          "name": "stdout",
          "output_type": "stream",
          "text": [
            "Epoch 28, Train Loss: 0.23427516878661464, Train Accuracy: 0.9332357059090824, Val Loss: 0.23046423494815826, Val Accuracy: 0.9370999932289124\n"
          ]
        },
        {
          "metadata": {
            "tags": null
          },
          "name": "stderr",
          "output_type": "stream",
          "text": [
            "100%|██████████| 59/59 [00:15<00:00,  3.91it/s, accuracy=0.934, loss=0.26, lr=0.001]\n"
          ]
        },
        {
          "metadata": {
            "tags": null
          },
          "name": "stdout",
          "output_type": "stream",
          "text": [
            "Epoch 29, Train Loss: 0.23220626757306567, Train Accuracy: 0.9339352421841379, Val Loss: 0.2291649430990219, Val Accuracy: 0.9368000030517578\n"
          ]
        },
        {
          "metadata": {
            "tags": null
          },
          "name": "stderr",
          "output_type": "stream",
          "text": [
            "100%|██████████| 59/59 [00:14<00:00,  3.95it/s, accuracy=0.916, loss=0.246, lr=0.001]\n"
          ]
        },
        {
          "metadata": {
            "tags": null
          },
          "name": "stdout",
          "output_type": "stream",
          "text": [
            "Epoch 30, Train Loss: 0.2299407081583799, Train Accuracy: 0.9345720551781735, Val Loss: 0.2276259809732437, Val Accuracy: 0.9369999766349792\n"
          ]
        },
        {
          "metadata": {
            "tags": null
          },
          "name": "stderr",
          "output_type": "stream",
          "text": [
            "100%|██████████| 59/59 [00:14<00:00,  3.98it/s, accuracy=0.941, loss=0.218, lr=0.001]\n"
          ]
        },
        {
          "metadata": {
            "tags": null
          },
          "name": "stdout",
          "output_type": "stream",
          "text": [
            "Epoch 31, Train Loss: 0.22766235041416297, Train Accuracy: 0.9349405523073875, Val Loss: 0.22572334110736847, Val Accuracy: 0.9373999834060669\n"
          ]
        },
        {
          "metadata": {
            "tags": null
          },
          "name": "stderr",
          "output_type": "stream",
          "text": [
            "100%|██████████| 59/59 [00:14<00:00,  3.95it/s, accuracy=0.924, loss=0.274, lr=0.001]\n"
          ]
        },
        {
          "metadata": {
            "tags": null
          },
          "name": "stdout",
          "output_type": "stream",
          "text": [
            "Epoch 32, Train Loss: 0.2263916622279054, Train Accuracy: 0.9356052420907102, Val Loss: 0.22498877346515656, Val Accuracy: 0.9376999735832214\n"
          ]
        },
        {
          "metadata": {
            "tags": null
          },
          "name": "stderr",
          "output_type": "stream",
          "text": [
            "100%|██████████| 59/59 [00:14<00:00,  3.97it/s, accuracy=0.931, loss=0.276, lr=0.001]\n"
          ]
        },
        {
          "metadata": {
            "tags": null
          },
          "name": "stdout",
          "output_type": "stream",
          "text": [
            "Epoch 33, Train Loss: 0.22476660397093176, Train Accuracy: 0.9357829578852249, Val Loss: 0.22329619526863098, Val Accuracy: 0.937999963760376\n"
          ]
        },
        {
          "metadata": {
            "tags": null
          },
          "name": "stderr",
          "output_type": "stream",
          "text": [
            "100%|██████████| 59/59 [00:15<00:00,  3.89it/s, accuracy=0.942, loss=0.181, lr=0.001]\n"
          ]
        },
        {
          "metadata": {
            "tags": null
          },
          "name": "stdout",
          "output_type": "stream",
          "text": [
            "Epoch 34, Train Loss: 0.2222956350799334, Train Accuracy: 0.9362760297322678, Val Loss: 0.22292134165763855, Val Accuracy: 0.9381999969482422\n"
          ]
        },
        {
          "metadata": {
            "tags": null
          },
          "name": "stderr",
          "output_type": "stream",
          "text": [
            "100%|██████████| 59/59 [00:14<00:00,  4.00it/s, accuracy=0.919, loss=0.257, lr=0.001]\n"
          ]
        },
        {
          "metadata": {
            "tags": null
          },
          "name": "stdout",
          "output_type": "stream",
          "text": [
            "Epoch 35, Train Loss: 0.22112758280867237, Train Accuracy: 0.9363492070618322, Val Loss: 0.22097307443618774, Val Accuracy: 0.9387999773025513\n"
          ]
        },
        {
          "metadata": {
            "tags": null
          },
          "name": "stderr",
          "output_type": "stream",
          "text": [
            "100%|██████████| 59/59 [00:13<00:00,  4.50it/s, accuracy=0.921, loss=0.269, lr=0.001]\n"
          ]
        },
        {
          "metadata": {
            "tags": null
          },
          "name": "stdout",
          "output_type": "stream",
          "text": [
            "Epoch 36, Train Loss: 0.21966660452091089, Train Accuracy: 0.9369398486816277, Val Loss: 0.219793438911438, Val Accuracy: 0.9396999478340149\n"
          ]
        },
        {
          "metadata": {
            "tags": null
          },
          "name": "stderr",
          "output_type": "stream",
          "text": [
            "100%|██████████| 59/59 [00:13<00:00,  4.50it/s, accuracy=0.944, loss=0.202, lr=0.001]\n"
          ]
        },
        {
          "metadata": {
            "tags": null
          },
          "name": "stdout",
          "output_type": "stream",
          "text": [
            "Epoch 37, Train Loss: 0.21784526337001284, Train Accuracy: 0.9372473662182436, Val Loss: 0.2188083678483963, Val Accuracy: 0.9389999508857727\n"
          ]
        },
        {
          "metadata": {
            "tags": null
          },
          "name": "stderr",
          "output_type": "stream",
          "text": [
            "100%|██████████| 59/59 [00:12<00:00,  4.65it/s, accuracy=0.954, loss=0.17, lr=0.001]\n"
          ]
        },
        {
          "metadata": {
            "tags": null
          },
          "name": "stdout",
          "output_type": "stream",
          "text": [
            "Epoch 38, Train Loss: 0.21632870122537776, Train Accuracy: 0.9378615284370164, Val Loss: 0.2180773913860321, Val Accuracy: 0.9391999840736389\n"
          ]
        },
        {
          "metadata": {
            "tags": null
          },
          "name": "stderr",
          "output_type": "stream",
          "text": [
            "100%|██████████| 59/59 [00:12<00:00,  4.62it/s, accuracy=0.942, loss=0.193, lr=0.001]\n"
          ]
        },
        {
          "metadata": {
            "tags": null
          },
          "name": "stdout",
          "output_type": "stream",
          "text": [
            "Epoch 39, Train Loss: 0.21514544396077173, Train Accuracy: 0.9383946738000644, Val Loss: 0.21736320853233337, Val Accuracy: 0.9387999773025513\n"
          ]
        },
        {
          "metadata": {
            "tags": null
          },
          "name": "stderr",
          "output_type": "stream",
          "text": [
            "100%|██████████| 59/59 [00:12<00:00,  4.65it/s, accuracy=0.942, loss=0.193, lr=0.001]\n"
          ]
        },
        {
          "metadata": {
            "tags": null
          },
          "name": "stdout",
          "output_type": "stream",
          "text": [
            "Epoch 40, Train Loss: 0.21391646235676134, Train Accuracy: 0.9384443295204034, Val Loss: 0.2165694385766983, Val Accuracy: 0.9398999810218811\n"
          ]
        },
        {
          "metadata": {
            "tags": null
          },
          "name": "stderr",
          "output_type": "stream",
          "text": [
            "100%|██████████| 59/59 [00:13<00:00,  4.52it/s, accuracy=0.939, loss=0.201, lr=0.001]\n"
          ]
        },
        {
          "metadata": {
            "tags": null
          },
          "name": "stdout",
          "output_type": "stream",
          "text": [
            "Epoch 41, Train Loss: 0.21255610908492137, Train Accuracy: 0.9392823789079311, Val Loss: 0.2151513248682022, Val Accuracy: 0.9393999576568604\n"
          ]
        },
        {
          "metadata": {
            "tags": null
          },
          "name": "stderr",
          "output_type": "stream",
          "text": [
            "100%|██████████| 59/59 [00:12<00:00,  4.60it/s, accuracy=0.936, loss=0.198, lr=0.001]\n"
          ]
        },
        {
          "metadata": {
            "tags": null
          },
          "name": "stdout",
          "output_type": "stream",
          "text": [
            "Epoch 42, Train Loss: 0.21145455059358628, Train Accuracy: 0.9389121391005435, Val Loss: 0.21447911858558655, Val Accuracy: 0.939300000667572\n"
          ]
        },
        {
          "metadata": {
            "tags": null
          },
          "name": "stderr",
          "output_type": "stream",
          "text": [
            "100%|██████████| 59/59 [00:12<00:00,  4.65it/s, accuracy=0.934, loss=0.22, lr=0.001]\n"
          ]
        },
        {
          "metadata": {
            "tags": null
          },
          "name": "stdout",
          "output_type": "stream",
          "text": [
            "Epoch 43, Train Loss: 0.21021482651516543, Train Accuracy: 0.9398939286248159, Val Loss: 0.21362178027629852, Val Accuracy: 0.9396999478340149\n"
          ]
        },
        {
          "metadata": {
            "tags": null
          },
          "name": "stderr",
          "output_type": "stream",
          "text": [
            "100%|██████████| 59/59 [00:12<00:00,  4.65it/s, accuracy=0.947, loss=0.16, lr=0.001]\n"
          ]
        },
        {
          "metadata": {
            "tags": null
          },
          "name": "stdout",
          "output_type": "stream",
          "text": [
            "Epoch 44, Train Loss: 0.20886150457091252, Train Accuracy: 0.940067288229021, Val Loss: 0.21323539316654205, Val Accuracy: 0.9405999779701233\n"
          ]
        },
        {
          "metadata": {
            "tags": null
          },
          "name": "stderr",
          "output_type": "stream",
          "text": [
            "100%|██████████| 59/59 [00:13<00:00,  4.47it/s, accuracy=0.939, loss=0.222, lr=0.001]\n"
          ]
        },
        {
          "metadata": {
            "tags": null
          },
          "name": "stdout",
          "output_type": "stream",
          "text": [
            "Epoch 45, Train Loss: 0.20848078773183337, Train Accuracy: 0.9398120399248802, Val Loss: 0.21111850440502167, Val Accuracy: 0.9405999779701233\n"
          ]
        },
        {
          "metadata": {
            "tags": null
          },
          "name": "stderr",
          "output_type": "stream",
          "text": [
            "100%|██████████| 59/59 [00:12<00:00,  4.63it/s, accuracy=0.944, loss=0.178, lr=0.001]\n"
          ]
        },
        {
          "metadata": {
            "tags": null
          },
          "name": "stdout",
          "output_type": "stream",
          "text": [
            "Epoch 46, Train Loss: 0.20684626142857437, Train Accuracy: 0.9402432613453623, Val Loss: 0.2113085389137268, Val Accuracy: 0.9399999976158142\n"
          ]
        },
        {
          "metadata": {
            "tags": null
          },
          "name": "stderr",
          "output_type": "stream",
          "text": [
            "100%|██████████| 59/59 [00:12<00:00,  4.58it/s, accuracy=0.941, loss=0.184, lr=0.001]\n"
          ]
        },
        {
          "metadata": {
            "tags": null
          },
          "name": "stdout",
          "output_type": "stream",
          "text": [
            "Epoch 47, Train Loss: 0.2062367483720941, Train Accuracy: 0.9407502715870485, Val Loss: 0.21194353699684143, Val Accuracy: 0.9413999915122986\n"
          ]
        },
        {
          "metadata": {
            "tags": null
          },
          "name": "stderr",
          "output_type": "stream",
          "text": [
            "100%|██████████| 59/59 [00:12<00:00,  4.63it/s, accuracy=0.934, loss=0.19, lr=0.001]\n"
          ]
        },
        {
          "metadata": {
            "tags": null
          },
          "name": "stdout",
          "output_type": "stream",
          "text": [
            "Epoch 48, Train Loss: 0.20522549142271784, Train Accuracy: 0.9410856659129515, Val Loss: 0.20899899303913116, Val Accuracy: 0.9404999613761902\n"
          ]
        },
        {
          "metadata": {
            "tags": null
          },
          "name": "stderr",
          "output_type": "stream",
          "text": [
            "100%|██████████| 59/59 [00:12<00:00,  4.58it/s, accuracy=0.911, loss=0.275, lr=0.001]\n"
          ]
        },
        {
          "metadata": {
            "tags": null
          },
          "name": "stdout",
          "output_type": "stream",
          "text": [
            "Epoch 49, Train Loss: 0.2048421156103328, Train Accuracy: 0.9409271155373525, Val Loss: 0.20947284996509552, Val Accuracy: 0.9417999982833862\n"
          ]
        },
        {
          "metadata": {
            "tags": null
          },
          "name": "stderr",
          "output_type": "stream",
          "text": [
            "100%|██████████| 59/59 [00:12<00:00,  4.68it/s, accuracy=0.944, loss=0.167, lr=0.001]\n"
          ]
        },
        {
          "metadata": {
            "tags": null
          },
          "name": "stdout",
          "output_type": "stream",
          "text": [
            "Epoch 50, Train Loss: 0.20302839375148385, Train Accuracy: 0.9415177581673961, Val Loss: 0.20814816653728485, Val Accuracy: 0.9407999515533447\n"
          ]
        },
        {
          "metadata": {
            "tags": null
          },
          "name": "stderr",
          "output_type": "stream",
          "text": [
            "100%|██████████| 59/59 [00:12<00:00,  4.58it/s, accuracy=0.947, loss=0.173, lr=0.001]\n"
          ]
        },
        {
          "metadata": {
            "tags": null
          },
          "name": "stdout",
          "output_type": "stream",
          "text": [
            "Epoch 51, Train Loss: 0.202210676367, Train Accuracy: 0.94207006894936, Val Loss: 0.20799411833286285, Val Accuracy: 0.9412999749183655\n"
          ]
        },
        {
          "metadata": {
            "tags": null
          },
          "name": "stderr",
          "output_type": "stream",
          "text": [
            "100%|██████████| 59/59 [00:12<00:00,  4.69it/s, accuracy=0.913, loss=0.25, lr=0.001]\n"
          ]
        },
        {
          "metadata": {
            "tags": null
          },
          "name": "stdout",
          "output_type": "stream",
          "text": [
            "Epoch 52, Train Loss: 0.2017614008006403, Train Accuracy: 0.941964659650447, Val Loss: 0.20755226910114288, Val Accuracy: 0.9413999915122986\n"
          ]
        },
        {
          "metadata": {
            "tags": null
          },
          "name": "stderr",
          "output_type": "stream",
          "text": [
            "100%|██████████| 59/59 [00:12<00:00,  4.61it/s, accuracy=0.928, loss=0.264, lr=0.001]\n"
          ]
        },
        {
          "metadata": {
            "tags": null
          },
          "name": "stdout",
          "output_type": "stream",
          "text": [
            "Epoch 53, Train Loss: 0.201235298888158, Train Accuracy: 0.9422155507540299, Val Loss: 0.20653720200061798, Val Accuracy: 0.9411999583244324\n"
          ]
        },
        {
          "metadata": {
            "tags": null
          },
          "name": "stderr",
          "output_type": "stream",
          "text": [
            "100%|██████████| 59/59 [00:12<00:00,  4.61it/s, accuracy=0.949, loss=0.188, lr=0.001]\n"
          ]
        },
        {
          "metadata": {
            "tags": null
          },
          "name": "stdout",
          "output_type": "stream",
          "text": [
            "Epoch 54, Train Loss: 0.20014206105369634, Train Accuracy: 0.941899322857291, Val Loss: 0.20637676119804382, Val Accuracy: 0.9420999884605408\n"
          ]
        },
        {
          "metadata": {
            "tags": null
          },
          "name": "stderr",
          "output_type": "stream",
          "text": [
            "100%|██████████| 59/59 [00:12<00:00,  4.64it/s, accuracy=0.944, loss=0.166, lr=0.001]\n"
          ]
        },
        {
          "metadata": {
            "tags": null
          },
          "name": "stdout",
          "output_type": "stream",
          "text": [
            "Epoch 55, Train Loss: 0.19906266867104222, Train Accuracy: 0.9425770802012945, Val Loss: 0.2060210406780243, Val Accuracy: 0.9409999847412109\n"
          ]
        },
        {
          "metadata": {
            "tags": null
          },
          "name": "stderr",
          "output_type": "stream",
          "text": [
            "100%|██████████| 59/59 [00:12<00:00,  4.65it/s, accuracy=0.923, loss=0.227, lr=0.001]\n"
          ]
        },
        {
          "metadata": {
            "tags": null
          },
          "name": "stdout",
          "output_type": "stream",
          "text": [
            "Epoch 56, Train Loss: 0.19853363122980475, Train Accuracy: 0.9426946852166774, Val Loss: 0.2050030529499054, Val Accuracy: 0.94159996509552\n"
          ]
        },
        {
          "metadata": {
            "tags": null
          },
          "name": "stderr",
          "output_type": "stream",
          "text": [
            "100%|██████████| 59/59 [00:12<00:00,  4.63it/s, accuracy=0.942, loss=0.189, lr=0.001]\n"
          ]
        },
        {
          "metadata": {
            "tags": null
          },
          "name": "stdout",
          "output_type": "stream",
          "text": [
            "Epoch 57, Train Loss: 0.19799833555342788, Train Accuracy: 0.9430292076983694, Val Loss: 0.2046826183795929, Val Accuracy: 0.9429999589920044\n"
          ]
        },
        {
          "metadata": {
            "tags": null
          },
          "name": "stderr",
          "output_type": "stream",
          "text": [
            "100%|██████████| 59/59 [00:12<00:00,  4.65it/s, accuracy=0.944, loss=0.187, lr=0.001]\n"
          ]
        },
        {
          "metadata": {
            "tags": null
          },
          "name": "stdout",
          "output_type": "stream",
          "text": [
            "Epoch 58, Train Loss: 0.19700880601244458, Train Accuracy: 0.9437026098623114, Val Loss: 0.20409764349460602, Val Accuracy: 0.9425999522209167\n"
          ]
        },
        {
          "metadata": {
            "tags": null
          },
          "name": "stderr",
          "output_type": "stream",
          "text": [
            "100%|██████████| 59/59 [00:12<00:00,  4.65it/s, accuracy=0.934, loss=0.2, lr=0.001]\n"
          ]
        },
        {
          "metadata": {
            "tags": null
          },
          "name": "stdout",
          "output_type": "stream",
          "text": [
            "Epoch 59, Train Loss: 0.19636435655214018, Train Accuracy: 0.9435353481163413, Val Loss: 0.20520050823688507, Val Accuracy: 0.94159996509552\n"
          ]
        },
        {
          "metadata": {
            "tags": null
          },
          "name": "stderr",
          "output_type": "stream",
          "text": [
            "100%|██████████| 59/59 [00:12<00:00,  4.63it/s, accuracy=0.946, loss=0.222, lr=0.001]\n"
          ]
        },
        {
          "metadata": {
            "tags": null
          },
          "name": "stdout",
          "output_type": "stream",
          "text": [
            "Epoch 60, Train Loss: 0.1956126561104241, Train Accuracy: 0.9437635904651577, Val Loss: 0.2029774785041809, Val Accuracy: 0.9422000050544739\n"
          ]
        },
        {
          "metadata": {
            "tags": null
          },
          "name": "stderr",
          "output_type": "stream",
          "text": [
            "100%|██████████| 59/59 [00:12<00:00,  4.63it/s, accuracy=0.957, loss=0.155, lr=0.001]\n"
          ]
        },
        {
          "metadata": {
            "tags": null
          },
          "name": "stdout",
          "output_type": "stream",
          "text": [
            "Epoch 61, Train Loss: 0.19459912559743656, Train Accuracy: 0.9442401104054209, Val Loss: 0.2030806839466095, Val Accuracy: 0.942799985408783\n"
          ]
        },
        {
          "metadata": {
            "tags": null
          },
          "name": "stderr",
          "output_type": "stream",
          "text": [
            "100%|██████████| 59/59 [00:12<00:00,  4.64it/s, accuracy=0.954, loss=0.2, lr=0.001]\n"
          ]
        },
        {
          "metadata": {
            "tags": null
          },
          "name": "stdout",
          "output_type": "stream",
          "text": [
            "Epoch 62, Train Loss: 0.19417199745016583, Train Accuracy: 0.9444491873353215, Val Loss: 0.20268619060516357, Val Accuracy: 0.9420999884605408\n"
          ]
        },
        {
          "metadata": {
            "tags": null
          },
          "name": "stderr",
          "output_type": "stream",
          "text": [
            "100%|██████████| 59/59 [00:12<00:00,  4.61it/s, accuracy=0.959, loss=0.192, lr=0.001]\n"
          ]
        },
        {
          "metadata": {
            "tags": null
          },
          "name": "stdout",
          "output_type": "stream",
          "text": [
            "Epoch 63, Train Loss: 0.1935537790848037, Train Accuracy: 0.9445824734235214, Val Loss: 0.20150226354599, Val Accuracy: 0.9430999755859375\n"
          ]
        },
        {
          "metadata": {
            "tags": null
          },
          "name": "stderr",
          "output_type": "stream",
          "text": [
            "100%|██████████| 59/59 [00:12<00:00,  4.65it/s, accuracy=0.934, loss=0.211, lr=0.001]\n"
          ]
        },
        {
          "metadata": {
            "tags": null
          },
          "name": "stdout",
          "output_type": "stream",
          "text": [
            "Epoch 64, Train Loss: 0.193058057609251, Train Accuracy: 0.9445615663366803, Val Loss: 0.2013285607099533, Val Accuracy: 0.942799985408783\n"
          ]
        },
        {
          "metadata": {
            "tags": null
          },
          "name": "stderr",
          "output_type": "stream",
          "text": [
            "100%|██████████| 59/59 [00:12<00:00,  4.62it/s, accuracy=0.947, loss=0.194, lr=0.001]\n"
          ]
        },
        {
          "metadata": {
            "tags": null
          },
          "name": "stdout",
          "output_type": "stream",
          "text": [
            "Epoch 65, Train Loss: 0.1923449036933608, Train Accuracy: 0.9451156197968176, Val Loss: 0.2007826566696167, Val Accuracy: 0.9429999589920044\n"
          ]
        },
        {
          "metadata": {
            "tags": null
          },
          "name": "stderr",
          "output_type": "stream",
          "text": [
            "100%|██████████| 59/59 [00:12<00:00,  4.57it/s, accuracy=0.949, loss=0.17, lr=0.001]\n"
          ]
        },
        {
          "metadata": {
            "tags": null
          },
          "name": "stdout",
          "output_type": "stream",
          "text": [
            "Epoch 66, Train Loss: 0.19160089452387924, Train Accuracy: 0.9450938408657655, Val Loss: 0.20116980373859406, Val Accuracy: 0.9426999688148499\n"
          ]
        },
        {
          "metadata": {
            "tags": null
          },
          "name": "stderr",
          "output_type": "stream",
          "text": [
            "100%|██████████| 59/59 [00:12<00:00,  4.57it/s, accuracy=0.938, loss=0.21, lr=0.001]\n"
          ]
        },
        {
          "metadata": {
            "tags": null
          },
          "name": "stdout",
          "output_type": "stream",
          "text": [
            "Epoch 67, Train Loss: 0.19119398447416597, Train Accuracy: 0.945411811440678, Val Loss: 0.20007182657718658, Val Accuracy: 0.9429000020027161\n"
          ]
        },
        {
          "metadata": {
            "tags": null
          },
          "name": "stderr",
          "output_type": "stream",
          "text": [
            "100%|██████████| 59/59 [00:13<00:00,  4.53it/s, accuracy=0.929, loss=0.222, lr=0.001]\n"
          ]
        },
        {
          "metadata": {
            "tags": null
          },
          "name": "stdout",
          "output_type": "stream",
          "text": [
            "Epoch 68, Train Loss: 0.19051093292438379, Train Accuracy: 0.9451234603332261, Val Loss: 0.19926656782627106, Val Accuracy: 0.9435999989509583\n"
          ]
        },
        {
          "metadata": {
            "tags": null
          },
          "name": "stderr",
          "output_type": "stream",
          "text": [
            "100%|██████████| 59/59 [00:12<00:00,  4.59it/s, accuracy=0.959, loss=0.181, lr=0.001]\n"
          ]
        },
        {
          "metadata": {
            "tags": null
          },
          "name": "stdout",
          "output_type": "stream",
          "text": [
            "Epoch 69, Train Loss: 0.1899513503757574, Train Accuracy: 0.9454266206692841, Val Loss: 0.19956298172473907, Val Accuracy: 0.9434999823570251\n"
          ]
        },
        {
          "metadata": {
            "tags": null
          },
          "name": "stderr",
          "output_type": "stream",
          "text": [
            "100%|██████████| 59/59 [00:12<00:00,  4.66it/s, accuracy=0.944, loss=0.211, lr=0.001]\n"
          ]
        },
        {
          "metadata": {
            "tags": null
          },
          "name": "stdout",
          "output_type": "stream",
          "text": [
            "Epoch 70, Train Loss: 0.1896976543180013, Train Accuracy: 0.9456888386758707, Val Loss: 0.19862093031406403, Val Accuracy: 0.9435999989509583\n"
          ]
        },
        {
          "metadata": {
            "tags": null
          },
          "name": "stderr",
          "output_type": "stream",
          "text": [
            "100%|██████████| 59/59 [00:12<00:00,  4.64it/s, accuracy=0.959, loss=0.179, lr=0.001]\n"
          ]
        },
        {
          "metadata": {
            "tags": null
          },
          "name": "stdout",
          "output_type": "stream",
          "text": [
            "Epoch 71, Train Loss: 0.18861677990121356, Train Accuracy: 0.9456086916438604, Val Loss: 0.19915369153022766, Val Accuracy: 0.9431999921798706\n"
          ]
        },
        {
          "metadata": {
            "tags": null
          },
          "name": "stderr",
          "output_type": "stream",
          "text": [
            "100%|██████████| 59/59 [00:13<00:00,  4.46it/s, accuracy=0.956, loss=0.167, lr=0.001]\n"
          ]
        },
        {
          "metadata": {
            "tags": null
          },
          "name": "stdout",
          "output_type": "stream",
          "text": [
            "Epoch 72, Train Loss: 0.1880034309322551, Train Accuracy: 0.9462812219635915, Val Loss: 0.19763900339603424, Val Accuracy: 0.9436999559402466\n"
          ]
        },
        {
          "metadata": {
            "tags": null
          },
          "name": "stderr",
          "output_type": "stream",
          "text": [
            "100%|██████████| 59/59 [00:12<00:00,  4.63it/s, accuracy=0.951, loss=0.162, lr=0.001]\n"
          ]
        },
        {
          "metadata": {
            "tags": null
          },
          "name": "stdout",
          "output_type": "stream",
          "text": [
            "Epoch 73, Train Loss: 0.18723424814515194, Train Accuracy: 0.9463631106635272, Val Loss: 0.1979294866323471, Val Accuracy: 0.9434999823570251\n"
          ]
        },
        {
          "metadata": {
            "tags": null
          },
          "name": "stderr",
          "output_type": "stream",
          "text": [
            "100%|██████████| 59/59 [00:12<00:00,  4.65it/s, accuracy=0.951, loss=0.184, lr=0.001]\n"
          ]
        },
        {
          "metadata": {
            "tags": null
          },
          "name": "stdout",
          "output_type": "stream",
          "text": [
            "Epoch 74, Train Loss: 0.18697971585443465, Train Accuracy: 0.9469755312143746, Val Loss: 0.19688796997070312, Val Accuracy: 0.9442999958992004\n"
          ]
        },
        {
          "metadata": {
            "tags": null
          },
          "name": "stderr",
          "output_type": "stream",
          "text": [
            "100%|██████████| 59/59 [00:12<00:00,  4.58it/s, accuracy=0.936, loss=0.199, lr=0.001]\n"
          ]
        },
        {
          "metadata": {
            "tags": null
          },
          "name": "stdout",
          "output_type": "stream",
          "text": [
            "Epoch 75, Train Loss: 0.1866205819582535, Train Accuracy: 0.9463770490581707, Val Loss: 0.1987147331237793, Val Accuracy: 0.9435999989509583\n"
          ]
        },
        {
          "metadata": {
            "tags": null
          },
          "name": "stderr",
          "output_type": "stream",
          "text": [
            "100%|██████████| 59/59 [00:13<00:00,  4.50it/s, accuracy=0.936, loss=0.215, lr=0.001]\n"
          ]
        },
        {
          "metadata": {
            "tags": null
          },
          "name": "stdout",
          "output_type": "stream",
          "text": [
            "Epoch 76, Train Loss: 0.18638494737067465, Train Accuracy: 0.9466749833802045, Val Loss: 0.19768020510673523, Val Accuracy: 0.944599986076355\n"
          ]
        },
        {
          "metadata": {
            "tags": null
          },
          "name": "stderr",
          "output_type": "stream",
          "text": [
            "100%|██████████| 59/59 [00:12<00:00,  4.67it/s, accuracy=0.944, loss=0.223, lr=0.001]\n"
          ]
        },
        {
          "metadata": {
            "tags": null
          },
          "name": "stdout",
          "output_type": "stream",
          "text": [
            "Epoch 77, Train Loss: 0.185884355235908, Train Accuracy: 0.9471785102860403, Val Loss: 0.1960730254650116, Val Accuracy: 0.9440999627113342\n"
          ]
        },
        {
          "metadata": {
            "tags": null
          },
          "name": "stderr",
          "output_type": "stream",
          "text": [
            "100%|██████████| 59/59 [00:12<00:00,  4.65it/s, accuracy=0.939, loss=0.196, lr=0.001]\n"
          ]
        },
        {
          "metadata": {
            "tags": null
          },
          "name": "stdout",
          "output_type": "stream",
          "text": [
            "Epoch 78, Train Loss: 0.18491951540365056, Train Accuracy: 0.9471776384418293, Val Loss: 0.19657354056835175, Val Accuracy: 0.9444999694824219\n"
          ]
        },
        {
          "metadata": {
            "tags": null
          },
          "name": "stderr",
          "output_type": "stream",
          "text": [
            "100%|██████████| 59/59 [00:12<00:00,  4.68it/s, accuracy=0.939, loss=0.208, lr=0.001]\n"
          ]
        },
        {
          "metadata": {
            "tags": null
          },
          "name": "stdout",
          "output_type": "stream",
          "text": [
            "Epoch 79, Train Loss: 0.18456245125350307, Train Accuracy: 0.9473431575096259, Val Loss: 0.19598345458507538, Val Accuracy: 0.944599986076355\n"
          ]
        },
        {
          "metadata": {
            "tags": null
          },
          "name": "stderr",
          "output_type": "stream",
          "text": [
            "100%|██████████| 59/59 [00:12<00:00,  4.58it/s, accuracy=0.944, loss=0.177, lr=0.001]\n"
          ]
        },
        {
          "metadata": {
            "tags": null
          },
          "name": "stdout",
          "output_type": "stream",
          "text": [
            "Epoch 80, Train Loss: 0.1840161355370182, Train Accuracy: 0.9473605812606165, Val Loss: 0.19593319296836853, Val Accuracy: 0.9448999762535095\n"
          ]
        },
        {
          "metadata": {
            "tags": null
          },
          "name": "stderr",
          "output_type": "stream",
          "text": [
            "100%|██████████| 59/59 [00:12<00:00,  4.61it/s, accuracy=0.942, loss=0.192, lr=0.001]\n"
          ]
        },
        {
          "metadata": {
            "tags": null
          },
          "name": "stdout",
          "output_type": "stream",
          "text": [
            "Epoch 81, Train Loss: 0.18389894598621434, Train Accuracy: 0.9472664958339626, Val Loss: 0.19532975554466248, Val Accuracy: 0.945099949836731\n"
          ]
        },
        {
          "metadata": {
            "tags": null
          },
          "name": "stderr",
          "output_type": "stream",
          "text": [
            "100%|██████████| 59/59 [00:12<00:00,  4.57it/s, accuracy=0.916, loss=0.302, lr=0.001]\n"
          ]
        },
        {
          "metadata": {
            "tags": null
          },
          "name": "stdout",
          "output_type": "stream",
          "text": [
            "Epoch 82, Train Loss: 0.18386866884716488, Train Accuracy: 0.9476480615341057, Val Loss: 0.19476774334907532, Val Accuracy: 0.9458999633789062\n"
          ]
        },
        {
          "metadata": {
            "tags": null
          },
          "name": "stderr",
          "output_type": "stream",
          "text": [
            "100%|██████████| 59/59 [00:12<00:00,  4.63it/s, accuracy=0.952, loss=0.18, lr=0.001]\n"
          ]
        },
        {
          "metadata": {
            "tags": null
          },
          "name": "stdout",
          "output_type": "stream",
          "text": [
            "Epoch 83, Train Loss: 0.18279286082518303, Train Accuracy: 0.9479634185968819, Val Loss: 0.19475781917572021, Val Accuracy: 0.9447000026702881\n"
          ]
        },
        {
          "metadata": {
            "tags": null
          },
          "name": "stderr",
          "output_type": "stream",
          "text": [
            "100%|██████████| 59/59 [00:13<00:00,  4.40it/s, accuracy=0.938, loss=0.198, lr=0.001]\n"
          ]
        },
        {
          "metadata": {
            "tags": null
          },
          "name": "stdout",
          "output_type": "stream",
          "text": [
            "Epoch 84, Train Loss: 0.18211312415236133, Train Accuracy: 0.948192531779661, Val Loss: 0.19498541951179504, Val Accuracy: 0.9442999958992004\n"
          ]
        },
        {
          "metadata": {
            "tags": null
          },
          "name": "stderr",
          "output_type": "stream",
          "text": [
            "100%|██████████| 59/59 [00:13<00:00,  4.51it/s, accuracy=0.939, loss=0.193, lr=0.001]\n"
          ]
        },
        {
          "metadata": {
            "tags": null
          },
          "name": "stdout",
          "output_type": "stream",
          "text": [
            "Epoch 85, Train Loss: 0.1819295072454517, Train Accuracy: 0.9478397147130158, Val Loss: 0.19369329512119293, Val Accuracy: 0.9455999732017517\n"
          ]
        },
        {
          "metadata": {
            "tags": null
          },
          "name": "stderr",
          "output_type": "stream",
          "text": [
            "100%|██████████| 59/59 [00:13<00:00,  4.51it/s, accuracy=0.931, loss=0.203, lr=0.001]\n"
          ]
        },
        {
          "metadata": {
            "tags": null
          },
          "name": "stdout",
          "output_type": "stream",
          "text": [
            "Epoch 86, Train Loss: 0.1813940605369665, Train Accuracy: 0.9480975765292927, Val Loss: 0.19480037689208984, Val Accuracy: 0.944599986076355\n"
          ]
        },
        {
          "metadata": {
            "tags": null
          },
          "name": "stderr",
          "output_type": "stream",
          "text": [
            "100%|██████████| 59/59 [00:13<00:00,  4.52it/s, accuracy=0.954, loss=0.175, lr=0.001]\n"
          ]
        },
        {
          "metadata": {
            "tags": null
          },
          "name": "stdout",
          "output_type": "stream",
          "text": [
            "Epoch 87, Train Loss: 0.1810353827678551, Train Accuracy: 0.9483554373353215, Val Loss: 0.1939753144979477, Val Accuracy: 0.9457999467849731\n"
          ]
        },
        {
          "metadata": {
            "tags": null
          },
          "name": "stderr",
          "output_type": "stream",
          "text": [
            "100%|██████████| 59/59 [00:12<00:00,  4.55it/s, accuracy=0.934, loss=0.207, lr=0.001]\n"
          ]
        },
        {
          "metadata": {
            "tags": null
          },
          "name": "stdout",
          "output_type": "stream",
          "text": [
            "Epoch 88, Train Loss: 0.18081093289084355, Train Accuracy: 0.9483188491756633, Val Loss: 0.19374658167362213, Val Accuracy: 0.9453999996185303\n"
          ]
        },
        {
          "metadata": {
            "tags": null
          },
          "name": "stderr",
          "output_type": "stream",
          "text": [
            "100%|██████████| 59/59 [00:12<00:00,  4.56it/s, accuracy=0.942, loss=0.169, lr=0.001]\n"
          ]
        },
        {
          "metadata": {
            "tags": null
          },
          "name": "stdout",
          "output_type": "stream",
          "text": [
            "Epoch 89, Train Loss: 0.1800532671859709, Train Accuracy: 0.9484747850288779, Val Loss: 0.19283872842788696, Val Accuracy: 0.9457999467849731\n"
          ]
        },
        {
          "metadata": {
            "tags": null
          },
          "name": "stderr",
          "output_type": "stream",
          "text": [
            "100%|██████████| 59/59 [00:12<00:00,  4.56it/s, accuracy=0.946, loss=0.213, lr=0.001]\n"
          ]
        },
        {
          "metadata": {
            "tags": null
          },
          "name": "stdout",
          "output_type": "stream",
          "text": [
            "Epoch 90, Train Loss: 0.17966853587304132, Train Accuracy: 0.9488946815668526, Val Loss: 0.19256554543972015, Val Accuracy: 0.9457999467849731\n"
          ]
        },
        {
          "metadata": {
            "tags": null
          },
          "name": "stderr",
          "output_type": "stream",
          "text": [
            "100%|██████████| 59/59 [00:13<00:00,  4.46it/s, accuracy=0.952, loss=0.177, lr=0.001]\n"
          ]
        },
        {
          "metadata": {
            "tags": null
          },
          "name": "stdout",
          "output_type": "stream",
          "text": [
            "Epoch 91, Train Loss: 0.17929631774708377, Train Accuracy: 0.9490889482578989, Val Loss: 0.19288276135921478, Val Accuracy: 0.9456999897956848\n"
          ]
        },
        {
          "metadata": {
            "tags": null
          },
          "name": "stderr",
          "output_type": "stream",
          "text": [
            "100%|██████████| 59/59 [00:12<00:00,  4.62it/s, accuracy=0.951, loss=0.156, lr=0.001]\n"
          ]
        },
        {
          "metadata": {
            "tags": null
          },
          "name": "stdout",
          "output_type": "stream",
          "text": [
            "Epoch 92, Train Loss: 0.17837518453598022, Train Accuracy: 0.9489783119347136, Val Loss: 0.19193528592586517, Val Accuracy: 0.9458999633789062\n"
          ]
        },
        {
          "metadata": {
            "tags": null
          },
          "name": "stderr",
          "output_type": "stream",
          "text": [
            "100%|██████████| 59/59 [00:13<00:00,  4.53it/s, accuracy=0.952, loss=0.168, lr=0.001]\n"
          ]
        },
        {
          "metadata": {
            "tags": null
          },
          "name": "stdout",
          "output_type": "stream",
          "text": [
            "Epoch 93, Train Loss: 0.17826422947948262, Train Accuracy: 0.9494365383002717, Val Loss: 0.1926707923412323, Val Accuracy: 0.9460999965667725\n"
          ]
        },
        {
          "metadata": {
            "tags": null
          },
          "name": "stderr",
          "output_type": "stream",
          "text": [
            "100%|██████████| 59/59 [00:12<00:00,  4.65it/s, accuracy=0.924, loss=0.252, lr=0.001]\n"
          ]
        },
        {
          "metadata": {
            "tags": null
          },
          "name": "stdout",
          "output_type": "stream",
          "text": [
            "Epoch 94, Train Loss: 0.17875286633685483, Train Accuracy: 0.9487309041669814, Val Loss: 0.1914261281490326, Val Accuracy: 0.946399986743927\n"
          ]
        },
        {
          "metadata": {
            "tags": null
          },
          "name": "stderr",
          "output_type": "stream",
          "text": [
            "100%|██████████| 59/59 [00:13<00:00,  4.49it/s, accuracy=0.952, loss=0.161, lr=0.001]\n"
          ]
        },
        {
          "metadata": {
            "tags": null
          },
          "name": "stdout",
          "output_type": "stream",
          "text": [
            "Epoch 95, Train Loss: 0.17774344273542952, Train Accuracy: 0.9492048116053565, Val Loss: 0.19137589633464813, Val Accuracy: 0.9460999965667725\n"
          ]
        },
        {
          "metadata": {
            "tags": null
          },
          "name": "stderr",
          "output_type": "stream",
          "text": [
            "100%|██████████| 59/59 [00:12<00:00,  4.61it/s, accuracy=0.941, loss=0.174, lr=0.001]\n"
          ]
        },
        {
          "metadata": {
            "tags": null
          },
          "name": "stdout",
          "output_type": "stream",
          "text": [
            "Epoch 96, Train Loss: 0.1771242972147667, Train Accuracy: 0.9494069188328113, Val Loss: 0.19123800098896027, Val Accuracy: 0.9466999769210815\n"
          ]
        },
        {
          "metadata": {
            "tags": null
          },
          "name": "stderr",
          "output_type": "stream",
          "text": [
            "100%|██████████| 59/59 [00:12<00:00,  4.62it/s, accuracy=0.951, loss=0.156, lr=0.001]\n"
          ]
        },
        {
          "metadata": {
            "tags": null
          },
          "name": "stdout",
          "output_type": "stream",
          "text": [
            "Epoch 97, Train Loss: 0.17689697040339647, Train Accuracy: 0.9491272790957306, Val Loss: 0.19115719199180603, Val Accuracy: 0.9455999732017517\n"
          ]
        },
        {
          "metadata": {
            "tags": null
          },
          "name": "stderr",
          "output_type": "stream",
          "text": [
            "100%|██████████| 59/59 [00:12<00:00,  4.66it/s, accuracy=0.942, loss=0.164, lr=0.001]\n"
          ]
        },
        {
          "metadata": {
            "tags": null
          },
          "name": "stdout",
          "output_type": "stream",
          "text": [
            "Epoch 98, Train Loss: 0.1765698674371687, Train Accuracy: 0.9492196208339626, Val Loss: 0.1911657452583313, Val Accuracy: 0.9460999965667725\n"
          ]
        },
        {
          "output_type": "stream",
          "name": "stderr",
          "text": [
            " 97%|█████████▋| 57/59 [00:12<00:00,  3.09it/s, accuracy=0.952, loss=0.148, lr=0.001]"
          ]
        }
      ]
    },
    {
      "cell_type": "code",
      "source": [
        "plt.figure(figsize=(12, 5))\n",
        "\n",
        "plt.subplot(1, 2, 1)\n",
        "plt.plot(train_losses, label='Train Loss')\n",
        "plt.plot(val_losses, label='Validation Loss')\n",
        "plt.xlabel('Epochs')\n",
        "plt.ylabel('Loss')\n",
        "plt.legend()\n",
        "\n",
        "plt.subplot(1, 2, 2)\n",
        "plt.plot(train_accuracies, label='Train Accuracy')\n",
        "plt.plot(val_accuracies, label='Validation Accuracy')\n",
        "plt.xlabel('Epochs')\n",
        "plt.ylabel('Accuracy')\n",
        "plt.legend()\n",
        "\n",
        "plt.show()"
      ],
      "metadata": {
        "id": "Xv9oX67eSXA7",
        "outputId": "b3845bbd-c0f5-490f-be10-af2668230f1b",
        "colab": {
          "base_uri": "https://localhost:8080/",
          "height": 465
        }
      },
      "execution_count": 15,
      "outputs": [
        {
          "output_type": "display_data",
          "data": {
            "text/plain": [
              "<Figure size 1200x500 with 2 Axes>"
            ],
            "image/png": "[encoded data removed]"
          },
          "metadata": {}
        }
      ]
    },
    {
      "cell_type": "markdown",
      "source": [
        "# Fast Kan\n"
      ],
      "metadata": {
        "id": "7bN_UUBmdwbF"
      }
    },
    {
      "cell_type": "markdown",
      "source": [
        "## Model"
      ],
      "metadata": {
        "id": "huD-hI4veKvq"
      }
    },
    {
      "cell_type": "code",
      "source": [
        "class SplineLinear(nn.Linear):\n",
        "    def __init__(self, in_features: int, out_features: int, init_scale: float = 0.1, **kw) -> None:\n",
        "        self.init_scale = init_scale\n",
        "        super().__init__(in_features, out_features, bias=False, **kw)\n",
        "\n",
        "    def reset_parameters(self) -> None:\n",
        "        nn.init.trunc_normal_(self.weight, mean=0, std=self.init_scale)\n",
        "\n",
        "class RadialBasisFunction(nn.Module):\n",
        "    def __init__(\n",
        "        self,\n",
        "        grid_min: float = -2.,\n",
        "        grid_max: float = 2.,\n",
        "        num_grids: int = 8,\n",
        "        denominator: float = None,  # larger denominators lead to smoother basis\n",
        "    ):\n",
        "        super().__init__()\n",
        "        self.grid_min = grid_min\n",
        "        self.grid_max = grid_max\n",
        "        self.num_grids = num_grids\n",
        "        grid = torch.linspace(grid_min, grid_max, num_grids)\n",
        "        self.grid = torch.nn.Parameter(grid, requires_grad=False)\n",
        "        self.denominator = denominator or (grid_max - grid_min) / (num_grids - 1)\n",
        "\n",
        "    def forward(self, x):\n",
        "        return torch.exp(-((x[..., None] - self.grid) / self.denominator) ** 2)\n",
        "\n",
        "class FastKANLayer(nn.Module):\n",
        "    def __init__(\n",
        "        self,\n",
        "        input_dim: int,\n",
        "        output_dim: int,\n",
        "        grid_min: float = -2.,\n",
        "        grid_max: float = 2.,\n",
        "        num_grids: int = 8,\n",
        "        use_base_update: bool = True,\n",
        "        use_layernorm: bool = True,\n",
        "        base_activation = F.silu,\n",
        "        spline_weight_init_scale: float = 0.1,\n",
        "    ) -> None:\n",
        "        super().__init__()\n",
        "        self.input_dim = input_dim\n",
        "        self.output_dim = output_dim\n",
        "        self.layernorm = None\n",
        "        if use_layernorm:\n",
        "            assert input_dim > 1, \"Do not use layernorms on 1D inputs. Set `use_layernorm=False`.\"\n",
        "            self.layernorm = nn.LayerNorm(input_dim)\n",
        "        self.rbf = RadialBasisFunction(grid_min, grid_max, num_grids)\n",
        "        self.spline_linear = SplineLinear(input_dim * num_grids, output_dim, spline_weight_init_scale)\n",
        "        self.use_base_update = use_base_update\n",
        "        if use_base_update:\n",
        "            self.base_activation = base_activation\n",
        "            self.base_linear = nn.Linear(input_dim, output_dim)\n",
        "\n",
        "    def forward(self, x, use_layernorm=True):\n",
        "        if self.layernorm is not None and use_layernorm:\n",
        "            spline_basis = self.rbf(self.layernorm(x))\n",
        "        else:\n",
        "            spline_basis = self.rbf(x)\n",
        "        ret = self.spline_linear(spline_basis.view(*spline_basis.shape[:-2], -1))\n",
        "        if self.use_base_update:\n",
        "            base = self.base_linear(self.base_activation(x))\n",
        "            ret = ret + base\n",
        "        return ret\n",
        "\n",
        "    def plot_curve(\n",
        "        self,\n",
        "        input_index: int,\n",
        "        output_index: int,\n",
        "        num_pts: int = 1000,\n",
        "        num_extrapolate_bins: int = 2\n",
        "    ):\n",
        "        '''this function returns the learned curves in a FastKANLayer.\n",
        "        input_index: the selected index of the input, in [0, input_dim) .\n",
        "        output_index: the selected index of the output, in [0, output_dim) .\n",
        "        num_pts: num of points sampled for the curve.\n",
        "        num_extrapolate_bins (N_e): num of bins extrapolating from the given grids. The curve\n",
        "            will be calculate in the range of [grid_min - h * N_e, grid_max + h * N_e].\n",
        "        '''\n",
        "        ng = self.rbf.num_grids\n",
        "        h = self.rbf.denominator\n",
        "        assert input_index < self.input_dim\n",
        "        assert output_index < self.output_dim\n",
        "        w = self.spline_linear.weight[\n",
        "            output_index, input_index * ng : (input_index + 1) * ng\n",
        "        ]   # num_grids,\n",
        "        x = torch.linspace(\n",
        "            self.rbf.grid_min - num_extrapolate_bins * h,\n",
        "            self.rbf.grid_max + num_extrapolate_bins * h,\n",
        "            num_pts\n",
        "        )   # num_pts, num_grids\n",
        "        with torch.no_grad():\n",
        "            y = (w * self.rbf(x.to(w.dtype))).sum(-1)\n",
        "        return x, y\n",
        "\n",
        "\n",
        "class FastKAN(nn.Module):\n",
        "    def __init__(\n",
        "        self,\n",
        "        layers_hidden: List[int],\n",
        "        grid_min: float = -1.,\n",
        "        grid_max: float = 1.,\n",
        "        num_grids: int = 5,\n",
        "        use_base_update: bool = True,\n",
        "        base_activation = F.silu,\n",
        "        spline_weight_init_scale: float = 0.1,\n",
        "    ) -> None:\n",
        "        super().__init__()\n",
        "        self.layers = nn.ModuleList([\n",
        "            FastKANLayer(\n",
        "                in_dim, out_dim,\n",
        "                grid_min=grid_min,\n",
        "                grid_max=grid_max,\n",
        "                num_grids=num_grids,\n",
        "                use_base_update=use_base_update,\n",
        "                base_activation=base_activation,\n",
        "                spline_weight_init_scale=spline_weight_init_scale,\n",
        "            ) for in_dim, out_dim in zip(layers_hidden[:-1], layers_hidden[1:])\n",
        "        ])\n",
        "\n",
        "    def forward(self, x):\n",
        "        for layer in self.layers:\n",
        "            x = layer(x)\n",
        "        return x\n",
        "\n",
        "\n",
        "class AttentionWithFastKANTransform(nn.Module):\n",
        "\n",
        "    def __init__(\n",
        "        self,\n",
        "        q_dim: int,\n",
        "        k_dim: int,\n",
        "        v_dim: int,\n",
        "        head_dim: int,\n",
        "        num_heads: int,\n",
        "        gating: bool = True,\n",
        "    ):\n",
        "        super(AttentionWithFastKANTransform, self).__init__()\n",
        "\n",
        "        self.num_heads = num_heads\n",
        "        total_dim = head_dim * self.num_heads\n",
        "        self.gating = gating\n",
        "        self.linear_q = FastKANLayer(q_dim, total_dim)\n",
        "        self.linear_k = FastKANLayer(k_dim, total_dim)\n",
        "        self.linear_v = FastKANLayer(v_dim, total_dim)\n",
        "        self.linear_o = FastKANLayer(total_dim, q_dim)\n",
        "        self.linear_g = None\n",
        "        if self.gating:\n",
        "            self.linear_g = FastKANLayer(q_dim, total_dim)\n",
        "        # precompute the 1/sqrt(head_dim)\n",
        "        self.norm = head_dim**-0.5\n",
        "\n",
        "    def forward(\n",
        "        self,\n",
        "        q: torch.Tensor,\n",
        "        k: torch.Tensor,\n",
        "        v: torch.Tensor,\n",
        "        bias: torch.Tensor = None,      # additive attention bias\n",
        "    ) -> torch.Tensor:\n",
        "\n",
        "        wq = self.linear_q(q).view(*q.shape[:-1], 1, self.num_heads, -1) * self.norm     # *q1hc\n",
        "        wk = self.linear_k(k).view(*k.shape[:-2], 1, k.shape[-2], self.num_heads, -1)    # *1khc\n",
        "        att = (wq * wk).sum(-1).softmax(-2)     # *qkh\n",
        "        del wq, wk\n",
        "        if bias is not None:\n",
        "            att = att + bias[..., None]\n",
        "\n",
        "        wv = self.linear_v(v).view(*v.shape[:-2],1, v.shape[-2], self.num_heads, -1)     # *1khc\n",
        "        o = (att[..., None] * wv).sum(-3)        # *qhc\n",
        "        del att, wv\n",
        "\n",
        "        o = o.view(*o.shape[:-2], -1)           # *q(hc)\n",
        "\n",
        "        if self.linear_g is not None:\n",
        "            # gating, use raw query input\n",
        "            g = self.linear_g(q)\n",
        "            o = torch.sigmoid(g) * o\n",
        "\n",
        "        # merge heads\n",
        "        o = self.linear_o(o)\n",
        "        return o"
      ],
      "metadata": {
        "id": "B3Cl17QCdv3D"
      },
      "execution_count": 23,
      "outputs": []
    },
    {
      "cell_type": "markdown",
      "source": [
        "## Train"
      ],
      "metadata": {
        "id": "M_7VWtvAeRUJ"
      }
    },
    {
      "cell_type": "code",
      "source": [
        "IMG_SIZE = 14\n",
        "\n",
        "# Load MNIST\n",
        "transform = transforms.Compose(\n",
        "    [transforms.ToTensor(), transforms.Resize((IMG_SIZE, IMG_SIZE))]\n",
        ")\n",
        "trainset = torchvision.datasets.MNIST(\n",
        "    root=\"./data\", train=True, download=True, transform=transform\n",
        ")\n",
        "valset = torchvision.datasets.MNIST(\n",
        "    root=\"./data\", train=False, download=True, transform=transform\n",
        ")\n",
        "trainloader = DataLoader(trainset, batch_size=1024, shuffle=True)\n",
        "valloader = DataLoader(valset, batch_size=1024 * 16, shuffle=False)\n",
        "\n",
        "# Define model\n",
        "model = FastKAN([IMG_SIZE ** 2, 10])\n",
        "device = torch.device(\"cuda\" if torch.cuda.is_available() else \"cpu\")\n",
        "model.to(device)\n",
        "\n",
        "# Define optimizer\n",
        "optimizer = optim.AdamW(model.parameters(), lr=1e-3, weight_decay=1e-4)\n",
        "# Define learning rate scheduler\n",
        "scheduler = optim.lr_scheduler.ReduceLROnPlateau(optimizer)\n",
        "\n",
        "# Define loss\n",
        "criterion = nn.CrossEntropyLoss()\n",
        "\n",
        "# Lists to store metrics\n",
        "train_losses = []\n",
        "train_accuracies = []\n",
        "val_losses = []\n",
        "val_accuracies = []\n",
        "\n",
        "for epoch in range(100):\n",
        "    # Train\n",
        "    model.train()\n",
        "    running_loss = 0\n",
        "    running_accuracy = 0\n",
        "    with tqdm(trainloader) as pbar:\n",
        "        for i, (images, labels) in enumerate(pbar):\n",
        "            images = images.view(-1, IMG_SIZE**2 ).to(device)\n",
        "            optimizer.zero_grad()\n",
        "            output = model(images)\n",
        "            loss = criterion(output, labels.to(device))\n",
        "            loss.backward()\n",
        "            optimizer.step()\n",
        "            accuracy = (output.argmax(dim=1) == labels.to(device)).float().mean()\n",
        "            running_loss += loss.item()\n",
        "            running_accuracy += accuracy.item()\n",
        "            pbar.set_postfix(loss=loss.item(), accuracy=accuracy.item(), lr=optimizer.param_groups[0]['lr'])\n",
        "\n",
        "    train_loss = running_loss / len(trainloader)\n",
        "    train_accuracy = running_accuracy / len(trainloader)\n",
        "    train_losses.append(train_loss)\n",
        "    train_accuracies.append(train_accuracy)\n",
        "\n",
        "    # Validation\n",
        "    model.eval()\n",
        "    val_loss = 0\n",
        "    val_accuracy = 0\n",
        "    with torch.no_grad():\n",
        "        for images, labels in valloader:\n",
        "            images = images.view(-1, IMG_SIZE**2).to(device)\n",
        "            output = model(images)\n",
        "            val_loss += criterion(output, labels.to(device)).item()\n",
        "            val_accuracy += (\n",
        "                (output.argmax(dim=1) == labels.to(device)).float().mean().item()\n",
        "            )\n",
        "    val_loss /= len(valloader)\n",
        "    val_accuracy /= len(valloader)\n",
        "    val_losses.append(val_loss)\n",
        "    val_accuracies.append(val_accuracy)\n",
        "\n",
        "    # Update learning rate\n",
        "    scheduler.step(val_loss)\n",
        "\n",
        "    print(\n",
        "        f\"Epoch {epoch + 1}, Train Loss: {train_loss}, Train Accuracy: {train_accuracy}, Val Loss: {val_loss}, Val Accuracy: {val_accuracy}\"\n",
        "    )\n",
        "\n"
      ],
      "metadata": {
        "id": "ccJUf_mTd2WK",
        "outputId": "980e6211-2c97-4abf-deba-ce59f9f7a0c9",
        "colab": {
          "base_uri": "https://localhost:8080/"
        }
      },
      "execution_count": null,
      "outputs": [
        {
          "output_type": "stream",
          "name": "stderr",
          "text": [
            "100%|██████████| 59/59 [00:13<00:00,  4.49it/s, accuracy=0.766, loss=0.955, lr=0.001]\n"
          ]
        },
        {
          "output_type": "stream",
          "name": "stdout",
          "text": [
            "Epoch 1, Train Loss: 1.6194245481895189, Train Accuracy: 0.4945352572505757, Val Loss: 0.984501838684082, Val Accuracy: 0.7479999661445618\n"
          ]
        },
        {
          "output_type": "stream",
          "name": "stderr",
          "text": [
            "100%|██████████| 59/59 [00:12<00:00,  4.58it/s, accuracy=0.854, loss=0.611, lr=0.001]\n"
          ]
        },
        {
          "output_type": "stream",
          "name": "stdout",
          "text": [
            "Epoch 2, Train Loss: 0.7805112438686823, Train Accuracy: 0.8023388719154616, Val Loss: 0.6228227615356445, Val Accuracy: 0.8445000052452087\n"
          ]
        },
        {
          "output_type": "stream",
          "name": "stderr",
          "text": [
            "100%|██████████| 59/59 [00:12<00:00,  4.54it/s, accuracy=0.887, loss=0.44, lr=0.001]\n"
          ]
        },
        {
          "output_type": "stream",
          "name": "stdout",
          "text": [
            "Epoch 3, Train Loss: 0.5619578679739419, Train Accuracy: 0.8567397624759351, Val Loss: 0.49110621213912964, Val Accuracy: 0.877299964427948\n"
          ]
        },
        {
          "output_type": "stream",
          "name": "stderr",
          "text": [
            "100%|██████████| 59/59 [00:13<00:00,  4.47it/s, accuracy=0.883, loss=0.424, lr=0.001]\n"
          ]
        },
        {
          "output_type": "stream",
          "name": "stdout",
          "text": [
            "Epoch 4, Train Loss: 0.46645207980931813, Train Accuracy: 0.8789628754227848, Val Loss: 0.4207025468349457, Val Accuracy: 0.8928999900817871\n"
          ]
        },
        {
          "output_type": "stream",
          "name": "stderr",
          "text": [
            "100%|██████████| 59/59 [00:13<00:00,  4.43it/s, accuracy=0.905, loss=0.358, lr=0.001]\n"
          ]
        },
        {
          "output_type": "stream",
          "name": "stdout",
          "text": [
            "Epoch 5, Train Loss: 0.4106197235947948, Train Accuracy: 0.8911598880412215, Val Loss: 0.37741461396217346, Val Accuracy: 0.9006999731063843\n"
          ]
        },
        {
          "output_type": "stream",
          "name": "stderr",
          "text": [
            "100%|██████████| 59/59 [00:13<00:00,  4.52it/s, accuracy=0.9, loss=0.364, lr=0.001]\n"
          ]
        },
        {
          "output_type": "stream",
          "name": "stdout",
          "text": [
            "Epoch 6, Train Loss: 0.3737953734599938, Train Accuracy: 0.8987563424191233, Val Loss: 0.34710821509361267, Val Accuracy: 0.9071999788284302\n"
          ]
        },
        {
          "output_type": "stream",
          "name": "stderr",
          "text": [
            "100%|██████████| 59/59 [00:13<00:00,  4.47it/s, accuracy=0.901, loss=0.348, lr=0.001]\n"
          ]
        },
        {
          "output_type": "stream",
          "name": "stdout",
          "text": [
            "Epoch 7, Train Loss: 0.34635159322770975, Train Accuracy: 0.9051401514118, Val Loss: 0.3244306445121765, Val Accuracy: 0.9120999574661255\n"
          ]
        },
        {
          "output_type": "stream",
          "name": "stderr",
          "text": [
            "100%|██████████| 59/59 [00:13<00:00,  4.39it/s, accuracy=0.9, loss=0.319, lr=0.001]\n"
          ]
        },
        {
          "output_type": "stream",
          "name": "stdout",
          "text": [
            "Epoch 8, Train Loss: 0.3252836193068553, Train Accuracy: 0.9104916443259029, Val Loss: 0.3076988160610199, Val Accuracy: 0.9159999489784241\n"
          ]
        },
        {
          "output_type": "stream",
          "name": "stderr",
          "text": [
            " 63%|██████▎   | 37/59 [00:08<00:06,  3.41it/s, accuracy=0.91, loss=0.335, lr=0.001]"
          ]
        }
      ]
    }
  ],
  "metadata": {
    "colab": {
      "provenance": [],
      "gpuType": "T4"
    },
    "kernelspec": {
      "display_name": "Python 3",
      "name": "python3"
    },
    "language_info": {
      "name": "python"
    },
    "accelerator": "GPU"
  },
  "nbformat": 4,
  "nbformat_minor": 0
}